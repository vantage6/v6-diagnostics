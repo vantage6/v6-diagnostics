{
 "cells": [
  {
   "cell_type": "markdown",
   "id": "4889a880-3f27-4a2f-9967-9f947cd4e2e8",
   "metadata": {
    "tags": []
   },
   "source": [
    "<img src=\"https://github.com/IKNL/guidelines/blob/master/resources/logos/vantage6.png?raw=true\" width=200 align=\"right\">\n",
    "\n",
    "# Hello vantage6 \n",
    "_feature testing a node instance_"
   ]
  },
  {
   "cell_type": "code",
   "execution_count": 1,
   "id": "89256e44-8602-4889-b6a3-c632e8d38885",
   "metadata": {},
   "outputs": [],
   "source": [
    "import rich\n",
    "\n",
    "from os import getenv\n",
    "from dotenv import load_dotenv\n",
    "from rich.table import Table\n",
    "from rich.text import Text\n",
    "from rich.console import Console\n",
    "\n",
    "from vantage6.client import Client\n",
    "\n",
    "# loading environment variables in '.env' file. \n",
    "load_dotenv()\n",
    "user = getenv('USER')\n",
    "password = getenv('PASSWORD')\n",
    "url = getenv('SERVER')\n",
    "port = getenv('PORT')\n",
    "path = getenv('API_PATH')"
   ]
  },
  {
   "cell_type": "markdown",
   "id": "160cb1b0-406c-432b-8a60-4fcfc77b9f5e",
   "metadata": {},
   "source": [
    "# Authenticate & Setup"
   ]
  },
  {
   "cell_type": "code",
   "execution_count": 2,
   "id": "e1945d0a-3935-40bf-a842-20351e61955f",
   "metadata": {},
   "outputs": [],
   "source": [
    "client = Client(url, port, path)\n",
    "client.authenticate(user, password)\n",
    "client.setup_encryption(None)"
   ]
  },
  {
   "cell_type": "markdown",
   "id": "3ac2ea49-c24f-45f6-9fdf-31e9c07e1559",
   "metadata": {},
   "source": [
    "# Collecting information\n",
    "Before we can run any algorithm we need to collect some info about the collaboration, organization and nodes."
   ]
  },
  {
   "cell_type": "code",
   "execution_count": 3,
   "id": "96fe7e08-240e-452e-bbf4-2c8a3056ba3f",
   "metadata": {},
   "outputs": [],
   "source": [
    "collaborations = client.collaboration.list(scope='global', fields=('id','name', 'encrypted'), include_metadata=False)"
   ]
  },
  {
   "cell_type": "code",
   "execution_count": 4,
   "id": "4c23e343-b75b-4ef3-a392-66f248814d0f",
   "metadata": {},
   "outputs": [
    {
     "data": {
      "text/html": [
       "<pre style=\"white-space:pre;overflow-x:auto;line-height:normal;font-family:Menlo,'DejaVu Sans Mono',consolas,'Courier New',monospace\"><span style=\"font-style: italic\">             Collaborations              </span>\n",
       "┏━━━━┳━━━━━━━━━━━━━━━━━━━━━━┳━━━━━━━━━━━┓\n",
       "┃<span style=\"font-weight: bold\"> Id </span>┃<span style=\"font-weight: bold\"> Name                 </span>┃<span style=\"font-weight: bold\"> Encrypted </span>┃\n",
       "┡━━━━╇━━━━━━━━━━━━━━━━━━━━━━╇━━━━━━━━━━━┩\n",
       "│<span style=\"color: #008080; text-decoration-color: #008080\">  1 </span>│<span style=\"color: #800080; text-decoration-color: #800080\"> testing              </span>│<span style=\"color: #008000; text-decoration-color: #008000\">     False </span>│\n",
       "│<span style=\"color: #008080; text-decoration-color: #008080\">  2 </span>│<span style=\"color: #800080; text-decoration-color: #800080\"> tno-demo             </span>│<span style=\"color: #008000; text-decoration-color: #008000\">     False </span>│\n",
       "│<span style=\"color: #008080; text-decoration-color: #008080\">  3 </span>│<span style=\"color: #800080; text-decoration-color: #800080\"> palliative_care_lumc </span>│<span style=\"color: #008000; text-decoration-color: #008000\">      True </span>│\n",
       "│<span style=\"color: #008080; text-decoration-color: #008080\">  4 </span>│<span style=\"color: #800080; text-decoration-color: #800080\"> Lancelot             </span>│<span style=\"color: #008000; text-decoration-color: #008000\">     False </span>│\n",
       "└────┴──────────────────────┴───────────┘\n",
       "</pre>\n"
      ],
      "text/plain": [
       "\u001b[3m             Collaborations              \u001b[0m\n",
       "┏━━━━┳━━━━━━━━━━━━━━━━━━━━━━┳━━━━━━━━━━━┓\n",
       "┃\u001b[1m \u001b[0m\u001b[1mId\u001b[0m\u001b[1m \u001b[0m┃\u001b[1m \u001b[0m\u001b[1mName                \u001b[0m\u001b[1m \u001b[0m┃\u001b[1m \u001b[0m\u001b[1mEncrypted\u001b[0m\u001b[1m \u001b[0m┃\n",
       "┡━━━━╇━━━━━━━━━━━━━━━━━━━━━━╇━━━━━━━━━━━┩\n",
       "│\u001b[36m \u001b[0m\u001b[36m 1\u001b[0m\u001b[36m \u001b[0m│\u001b[35m \u001b[0m\u001b[35mtesting             \u001b[0m\u001b[35m \u001b[0m│\u001b[32m \u001b[0m\u001b[32m    False\u001b[0m\u001b[32m \u001b[0m│\n",
       "│\u001b[36m \u001b[0m\u001b[36m 2\u001b[0m\u001b[36m \u001b[0m│\u001b[35m \u001b[0m\u001b[35mtno-demo            \u001b[0m\u001b[35m \u001b[0m│\u001b[32m \u001b[0m\u001b[32m    False\u001b[0m\u001b[32m \u001b[0m│\n",
       "│\u001b[36m \u001b[0m\u001b[36m 3\u001b[0m\u001b[36m \u001b[0m│\u001b[35m \u001b[0m\u001b[35mpalliative_care_lumc\u001b[0m\u001b[35m \u001b[0m│\u001b[32m \u001b[0m\u001b[32m     True\u001b[0m\u001b[32m \u001b[0m│\n",
       "│\u001b[36m \u001b[0m\u001b[36m 4\u001b[0m\u001b[36m \u001b[0m│\u001b[35m \u001b[0m\u001b[35mLancelot            \u001b[0m\u001b[35m \u001b[0m│\u001b[32m \u001b[0m\u001b[32m    False\u001b[0m\u001b[32m \u001b[0m│\n",
       "└────┴──────────────────────┴───────────┘\n"
      ]
     },
     "execution_count": 4,
     "metadata": {},
     "output_type": "execute_result"
    }
   ],
   "source": [
    "table = Table(title='Collaborations')\n",
    "table.add_column(\"Id\", justify=\"right\", style=\"cyan\", no_wrap=True)\n",
    "table.add_column(\"Name\", style=\"magenta\")\n",
    "table.add_column(\"Encrypted\", justify=\"right\", style=\"green\")\n",
    "for collaboration in collaborations:\n",
    "    table.add_row(*list(map(str, collaboration.values())))\n",
    "    \n",
    "table"
   ]
  },
  {
   "cell_type": "code",
   "execution_count": 5,
   "id": "b48e55ac-b710-48e9-bea1-428f0ea8ba5e",
   "metadata": {},
   "outputs": [],
   "source": [
    "# set this to the collaboration ID you want to use\n",
    "COLLABORATION_ID = 1"
   ]
  },
  {
   "cell_type": "code",
   "execution_count": 6,
   "id": "7d59caf9-a403-4864-93c9-6c69a23df9fc",
   "metadata": {},
   "outputs": [],
   "source": [
    "collaboration = client.collaboration.get(COLLABORATION_ID, fields=('organizations','nodes'))"
   ]
  },
  {
   "cell_type": "code",
   "execution_count": 7,
   "id": "0cc0d1e9-931f-48c0-a7d5-5b16a4f2496e",
   "metadata": {},
   "outputs": [
    {
     "data": {
      "text/html": [
       "<pre style=\"white-space:pre;overflow-x:auto;line-height:normal;font-family:Menlo,'DejaVu Sans Mono',consolas,'Courier New',monospace\"><span style=\"font-style: italic\">Organizations</span>\n",
       "┏━━━━┳━━━━━━┓\n",
       "┃<span style=\"font-weight: bold\"> id </span>┃<span style=\"font-weight: bold\"> name </span>┃\n",
       "┡━━━━╇━━━━━━┩\n",
       "│ 1  │ root │\n",
       "│ 2  │ IKNL │\n",
       "└────┴──────┘\n",
       "</pre>\n"
      ],
      "text/plain": [
       "\u001b[3mOrganizations\u001b[0m\n",
       "┏━━━━┳━━━━━━┓\n",
       "┃\u001b[1m \u001b[0m\u001b[1mid\u001b[0m\u001b[1m \u001b[0m┃\u001b[1m \u001b[0m\u001b[1mname\u001b[0m\u001b[1m \u001b[0m┃\n",
       "┡━━━━╇━━━━━━┩\n",
       "│ 1  │ root │\n",
       "│ 2  │ IKNL │\n",
       "└────┴──────┘\n"
      ]
     },
     "execution_count": 7,
     "metadata": {},
     "output_type": "execute_result"
    }
   ],
   "source": [
    "fields=('id', 'name')\n",
    "organization_ids = [n.get('id') for n in collaboration['organizations']]\n",
    "organizations = [client.organization.get(id_, fields=fields) for id_ in organization_ids]\n",
    "table = Table(title='Organizations')\n",
    "[table.add_column(column) for column in fields]\n",
    "[table.add_row(*map(str, list(organization.values()))) for organization in organizations]\n",
    "table"
   ]
  },
  {
   "cell_type": "code",
   "execution_count": 8,
   "id": "025a1fcb-2a22-4293-beff-c4e6bd644d2a",
   "metadata": {},
   "outputs": [
    {
     "data": {
      "text/html": [
       "<pre style=\"white-space:pre;overflow-x:auto;line-height:normal;font-family:Menlo,'DejaVu Sans Mono',consolas,'Courier New',monospace\"><span style=\"font-style: italic\">                                 Nodes                                  </span>\n",
       "┏━━━━┳━━━━━━━━━━━━━━━━━━━━━┳━━━━━━━━┳━━━━━━━━━━━━━━━━━━━━━━━━━━━━━━━━━━┓\n",
       "┃<span style=\"font-weight: bold\"> id </span>┃<span style=\"font-weight: bold\"> name                </span>┃<span style=\"font-weight: bold\"> status </span>┃<span style=\"font-weight: bold\"> last_seen                        </span>┃\n",
       "┡━━━━╇━━━━━━━━━━━━━━━━━━━━━╇━━━━━━━━╇━━━━━━━━━━━━━━━━━━━━━━━━━━━━━━━━━━┩\n",
       "│ 4  │ IKNL - testing Node │ online │ 2022-05-09T09:54:55.531484+00:00 │\n",
       "│ 3  │ root - testing Node │ online │ 2022-05-09T09:54:56.656157+00:00 │\n",
       "└────┴─────────────────────┴────────┴──────────────────────────────────┘\n",
       "</pre>\n"
      ],
      "text/plain": [
       "\u001b[3m                                 Nodes                                  \u001b[0m\n",
       "┏━━━━┳━━━━━━━━━━━━━━━━━━━━━┳━━━━━━━━┳━━━━━━━━━━━━━━━━━━━━━━━━━━━━━━━━━━┓\n",
       "┃\u001b[1m \u001b[0m\u001b[1mid\u001b[0m\u001b[1m \u001b[0m┃\u001b[1m \u001b[0m\u001b[1mname               \u001b[0m\u001b[1m \u001b[0m┃\u001b[1m \u001b[0m\u001b[1mstatus\u001b[0m\u001b[1m \u001b[0m┃\u001b[1m \u001b[0m\u001b[1mlast_seen                       \u001b[0m\u001b[1m \u001b[0m┃\n",
       "┡━━━━╇━━━━━━━━━━━━━━━━━━━━━╇━━━━━━━━╇━━━━━━━━━━━━━━━━━━━━━━━━━━━━━━━━━━┩\n",
       "│ 4  │ IKNL - testing Node │ online │ 2022-05-09T09:54:55.531484+00:00 │\n",
       "│ 3  │ root - testing Node │ online │ 2022-05-09T09:54:56.656157+00:00 │\n",
       "└────┴─────────────────────┴────────┴──────────────────────────────────┘\n"
      ]
     },
     "execution_count": 8,
     "metadata": {},
     "output_type": "execute_result"
    }
   ],
   "source": [
    "fields=('id', 'name', 'status', 'last_seen')\n",
    "node_ids = [n.get('id') for n in collaboration['nodes']]\n",
    "nodes = [client.node.get(id_, fields=fields) for id_ in node_ids]\n",
    "table = Table(title='Nodes')\n",
    "[table.add_column(column) for column in fields]\n",
    "[table.add_row(*map(str, list(node.values()))) for node in nodes]\n",
    "table"
   ]
  },
  {
   "cell_type": "markdown",
   "id": "58094538-a501-4c55-a48b-7f5eb4e40ff9",
   "metadata": {},
   "source": [
    "# Reset API keys\n",
    "_Only do this if you do no longer have the API keys of the nodes_"
   ]
  },
  {
   "cell_type": "code",
   "execution_count": 9,
   "id": "0e662427-c14a-4bc1-9a5f-933a6bf7458a",
   "metadata": {},
   "outputs": [],
   "source": [
    "#node = client.request(f\"/recover/node\", method=\"post\", json={'id': 4})\n",
    "#node"
   ]
  },
  {
   "cell_type": "markdown",
   "id": "2594a14a-eeb0-407f-9557-3121b04c758d",
   "metadata": {},
   "source": [
    "# Run the feature tester"
   ]
  },
  {
   "cell_type": "code",
   "execution_count": 10,
   "id": "750802e2-b37a-4c31-bf5c-1e73934140ce",
   "metadata": {},
   "outputs": [],
   "source": [
    "from socketio import ClientNamespace, Client as SocketIO"
   ]
  },
  {
   "cell_type": "code",
   "execution_count": 11,
   "id": "6ab9c594-84a8-46a1-8ffe-2fd18044cc4b",
   "metadata": {},
   "outputs": [
    {
     "data": {
      "text/plain": [
       "{'id': 293, 'link': '/task/293', 'methods': ['DELETE', 'GET']}"
      ]
     },
     "execution_count": 11,
     "metadata": {},
     "output_type": "execute_result"
    }
   ],
   "source": [
    "client.request(f'result/603')['task']"
   ]
  },
  {
   "cell_type": "code",
   "execution_count": 12,
   "id": "97dff61a-a708-47c8-aa25-6b869ce71c94",
   "metadata": {},
   "outputs": [],
   "source": [
    "console = Console()\n",
    "\n",
    "class TasksNamespace(ClientNamespace):\n",
    "\n",
    "    def on_status_update(self, result_id):\n",
    "\n",
    "        # print(\"socket call!\")\n",
    "        result_id = result_id.get('result_id')\n",
    "        # print(f'result/{result_id}')\n",
    "        task_id = client.request(f'result/{result_id}').get('task').get('id')\n",
    "        # print(task_id)\n",
    "        task = client.task.get(task_id)\n",
    "        # print(task)\n",
    "        if task.get('complete') == True: \n",
    "            results = client.task.get(task.get(\"id\"), include_results=True)['results']\n",
    "            # print(results)\n",
    "            # print the results per node\n",
    "            for result in results:\n",
    "                console.print('*'*80)\n",
    "                console.print(result['log']) "
   ]
  },
  {
   "cell_type": "code",
   "execution_count": 13,
   "id": "0d78e820-2e06-4582-a495-15783fa683e6",
   "metadata": {},
   "outputs": [],
   "source": [
    "socket = SocketIO()\n",
    "socket.register_namespace(TasksNamespace('/tasks'))"
   ]
  },
  {
   "cell_type": "code",
   "execution_count": 14,
   "id": "c4a51448-7a75-4af2-b0a3-d68324f5a260",
   "metadata": {},
   "outputs": [],
   "source": [
    "socket.connect(f'{url}:{port}', headers=client.headers)"
   ]
  },
  {
   "cell_type": "code",
   "execution_count": 15,
   "id": "eec0d463-0508-45fe-a8de-c894ca84c9ba",
   "metadata": {},
   "outputs": [],
   "source": [
    "socket.emit(\"join_room\", f\"collaboration_{COLLABORATION_ID}\", namespace='/tasks')"
   ]
  },
  {
   "cell_type": "code",
   "execution_count": 18,
   "id": "6c738c88-45e7-40f5-9fdc-bd2bc3acde4a",
   "metadata": {},
   "outputs": [
    {
     "data": {
      "text/html": [
       "<pre style=\"white-space:pre;overflow-x:auto;line-height:normal;font-family:Menlo,'DejaVu Sans Mono',consolas,'Courier New',monospace\">********************************************************************************\n",
       "</pre>\n"
      ],
      "text/plain": [
       "********************************************************************************\n"
      ]
     },
     "metadata": {},
     "output_type": "display_data"
    },
    {
     "data": {
      "text/html": [
       "<pre style=\"white-space:pre;overflow-x:auto;line-height:normal;font-family:Menlo,'DejaVu Sans Mono',consolas,'Courier New',monospace\">--&gt; Reading the environment variables\n",
       "ENVIRONMENT: <span style=\"color: #800080; text-decoration-color: #800080; font-weight: bold\">environ</span><span style=\"font-weight: bold\">({</span><span style=\"color: #008000; text-decoration-color: #008000\">'INPUT_FILE'</span>: <span style=\"color: #008000; text-decoration-color: #008000\">'/mnt/data/task-000000617/input'</span>, <span style=\"color: #008000; text-decoration-color: #008000\">'HOSTNAME'</span>: \n",
       "<span style=\"color: #008000; text-decoration-color: #008000\">'7e76b0f40a30'</span>, <span style=\"color: #008000; text-decoration-color: #008000\">'PYTHON_PIP_VERSION'</span>: <span style=\"color: #008000; text-decoration-color: #008000\">'20.3.3'</span>, <span style=\"color: #008000; text-decoration-color: #008000\">'TOKEN_FILE'</span>: \n",
       "<span style=\"color: #008000; text-decoration-color: #008000\">'/mnt/data/task-000000617/token'</span>, <span style=\"color: #008000; text-decoration-color: #008000\">'PORT'</span>: <span style=\"color: #008000; text-decoration-color: #008000\">'80'</span>, <span style=\"color: #008000; text-decoration-color: #008000\">'HOME'</span>: <span style=\"color: #008000; text-decoration-color: #008000\">'/root'</span>, <span style=\"color: #008000; text-decoration-color: #008000\">'GPG_KEY'</span>: \n",
       "<span style=\"color: #008000; text-decoration-color: #008000\">'0D96DF4D4110E5C43FBFB17F2D347EA6AA65421D'</span>, <span style=\"color: #008000; text-decoration-color: #008000\">'TEMPORARY_FOLDER'</span>: <span style=\"color: #008000; text-decoration-color: #008000\">'/mnt/tmp'</span>, <span style=\"color: #008000; text-decoration-color: #008000\">'API_PATH'</span>: <span style=\"color: #008000; text-decoration-color: #008000\">''</span>, \n",
       "<span style=\"color: #008000; text-decoration-color: #008000\">'PYTHON_GET_PIP_URL'</span>: \n",
       "<span style=\"color: #008000; text-decoration-color: #008000\">'https://github.com/pypa/get-pip/raw/5f38681f7f5872e4032860b54e9cc11cf0374932/get-pip.py'</span>, \n",
       "<span style=\"color: #008000; text-decoration-color: #008000\">'PKG_NAME'</span>: <span style=\"color: #008000; text-decoration-color: #008000\">'v6-feature-tester-py'</span>, <span style=\"color: #008000; text-decoration-color: #008000\">'PATH'</span>: \n",
       "<span style=\"color: #008000; text-decoration-color: #008000\">'/usr/local/bin:/usr/local/sbin:/usr/local/bin:/usr/sbin:/usr/bin:/sbin:/bin'</span>, <span style=\"color: #008000; text-decoration-color: #008000\">'LANG'</span>: \n",
       "<span style=\"color: #008000; text-decoration-color: #008000\">'C.UTF-8'</span>, <span style=\"color: #008000; text-decoration-color: #008000\">'DEFAULT_DATABASE_URI'</span>: <span style=\"color: #008000; text-decoration-color: #008000\">'/mnt/data/default.csv'</span>, <span style=\"color: #008000; text-decoration-color: #008000\">'HOST'</span>: <span style=\"color: #008000; text-decoration-color: #008000\">'http://proxyserver'</span>, \n",
       "<span style=\"color: #008000; text-decoration-color: #008000\">'PYTHON_VERSION'</span>: <span style=\"color: #008000; text-decoration-color: #008000\">'3.7.9'</span>, <span style=\"color: #008000; text-decoration-color: #008000\">'PWD'</span>: <span style=\"color: #008000; text-decoration-color: #008000\">'/'</span>, <span style=\"color: #008000; text-decoration-color: #008000\">'PYTHON_GET_PIP_SHA256'</span>: \n",
       "<span style=\"color: #008000; text-decoration-color: #008000\">'6a0b13826862f33c13b614a921d36253bfa1ae779c5fbf569876f3585057e9d2'</span>, <span style=\"color: #008000; text-decoration-color: #008000\">'OUTPUT_FILE'</span>: \n",
       "<span style=\"color: #008000; text-decoration-color: #008000\">'/mnt/data/task-000000617/output'</span>, <span style=\"color: #008000; text-decoration-color: #008000\">'DATABASE_URI'</span>: <span style=\"color: #008000; text-decoration-color: #008000\">'/mnt/data/default.csv'</span><span style=\"font-weight: bold\">})</span>\n",
       "--&gt; Reading input file\n",
       "INPUT FILE: <span style=\"color: #008000; text-decoration-color: #008000\">b'\\x80\\x04}\\x94.'</span>\n",
       "--&gt; Writing to output file <span style=\"font-weight: bold\">(</span>contents: test<span style=\"font-weight: bold\">)</span>\n",
       "--&gt; Reading output file back and check\n",
       "test\n",
       "--&gt; Reading token file\n",
       "TOKEN: eyJ0eXAiOiJKV1QiLCJhbGciOiJIUzI1NiJ9.eyJpYXQiOjE2NTIwOTAxOTEsIm5iZiI6MTY1MjA5MDE5MSwia\n",
       "nRpIjoiOThlOThiNWEtZjJhNy00MDQwLWI2NmUtMTkxYTgwYjE2MmVmIiwiaWRlbnRpdHkiOnsidHlwZSI6ImNvbnRhaW\n",
       "5lciIsIm5vZGVfaWQiOjQsIm9yZ2FuaXphdGlvbl9pZCI6MiwiY29sbGFib3JhdGlvbl9pZCI6MSwidGFza19pZCI6MzA\n",
       "wLCJpbWFnZSI6ImhhcmJvcjIudmFudGFnZTYuYWkvaW5mcmFzdHJ1Y3R1cmUvaGVsbG8tdmFudGFnZTYifSwiZnJlc2gi\n",
       "OmZhbHNlLCJ0eXBlIjoiYWNjZXNzIiwidXNlcl9jbGFpbXMiOnsidHlwZSI6ImNvbnRhaW5lciIsInJvbGVzIjpbXX19.\n",
       "G6vEMNLqXHOVt-EW7-zsScoLapNYlLC0mFyUiMUOX3Q\n",
       "--&gt; Test temporary volume\n",
       "--&gt; Writing to temporary file: <span style=\"color: #800080; text-decoration-color: #800080\">/mnt/tmp/</span><span style=\"color: #ff00ff; text-decoration-color: #ff00ff\">test.txt</span>\n",
       "--&gt; Test that the temporary file is created\n",
       "FILE CREATED: <span style=\"color: #00ff00; text-decoration-color: #00ff00; font-style: italic\">True</span>\n",
       "--&gt; Test that we can reach the local proxy <span style=\"font-weight: bold\">(</span>and thereby the server<span style=\"font-weight: bold\">)</span>\n",
       "--&gt; Verify that the container has no internet connection\n",
       "--&gt; Connection error catched\n",
       "--&gt; Check that two ports have been published\n",
       "debug\n",
       "<span style=\"font-weight: bold\">{</span><span style=\"color: #008000; text-decoration-color: #008000\">'assigned_at'</span>: <span style=\"color: #008000; text-decoration-color: #008000\">'2022-05-09T09:56:29.022377+00:00'</span>, <span style=\"color: #008000; text-decoration-color: #008000\">'finished_at'</span>: <span style=\"color: #800080; text-decoration-color: #800080; font-style: italic\">None</span>, <span style=\"color: #008000; text-decoration-color: #008000\">'id'</span>: <span style=\"color: #008080; text-decoration-color: #008080; font-weight: bold\">617</span>, <span style=\"color: #008000; text-decoration-color: #008000\">'input'</span>: \n",
       "<span style=\"color: #008000; text-decoration-color: #008000\">'gAR9lC4='</span>, <span style=\"color: #008000; text-decoration-color: #008000\">'log'</span>: <span style=\"color: #800080; text-decoration-color: #800080; font-style: italic\">None</span>, <span style=\"color: #008000; text-decoration-color: #008000\">'node'</span>: <span style=\"font-weight: bold\">{</span><span style=\"color: #008000; text-decoration-color: #008000\">'id'</span>: <span style=\"color: #008080; text-decoration-color: #008080; font-weight: bold\">4</span>, <span style=\"color: #008000; text-decoration-color: #008000\">'ip'</span>: <span style=\"color: #008000; text-decoration-color: #008000\">'10.76.0.48'</span>, <span style=\"color: #008000; text-decoration-color: #008000\">'name'</span>: <span style=\"color: #008000; text-decoration-color: #008000\">'IKNL - testing Node'</span>,\n",
       "<span style=\"color: #008000; text-decoration-color: #008000\">'status'</span>: <span style=\"color: #008000; text-decoration-color: #008000\">'online'</span><span style=\"font-weight: bold\">}</span>, <span style=\"color: #008000; text-decoration-color: #008000\">'organization'</span>: <span style=\"color: #008080; text-decoration-color: #008080; font-weight: bold\">2</span>, <span style=\"color: #008000; text-decoration-color: #008000\">'ports'</span>: <span style=\"font-weight: bold\">[{</span><span style=\"color: #008000; text-decoration-color: #008000\">'id'</span>: <span style=\"color: #008080; text-decoration-color: #008080; font-weight: bold\">219</span>, <span style=\"color: #008000; text-decoration-color: #008000\">'label'</span>: <span style=\"color: #008000; text-decoration-color: #008000\">'port5'</span>, <span style=\"color: #008000; text-decoration-color: #008000\">'port'</span>: \n",
       "<span style=\"color: #008080; text-decoration-color: #008080; font-weight: bold\">49178</span><span style=\"font-weight: bold\">}</span>, <span style=\"font-weight: bold\">{</span><span style=\"color: #008000; text-decoration-color: #008000\">'id'</span>: <span style=\"color: #008080; text-decoration-color: #008080; font-weight: bold\">221</span>, <span style=\"color: #008000; text-decoration-color: #008000\">'label'</span>: <span style=\"color: #008000; text-decoration-color: #008000\">'port8'</span>, <span style=\"color: #008000; text-decoration-color: #008000\">'port'</span>: <span style=\"color: #008080; text-decoration-color: #008080; font-weight: bold\">49179</span><span style=\"font-weight: bold\">}]</span>, <span style=\"color: #008000; text-decoration-color: #008000\">'result'</span>: <span style=\"color: #800080; text-decoration-color: #800080; font-style: italic\">None</span>, <span style=\"color: #008000; text-decoration-color: #008000\">'started_at'</span>: \n",
       "<span style=\"color: #008000; text-decoration-color: #008000\">'2022-05-09T09:56:29.921688+00:00'</span>, <span style=\"color: #008000; text-decoration-color: #008000\">'task'</span>: <span style=\"color: #008080; text-decoration-color: #008080; font-weight: bold\">300</span><span style=\"font-weight: bold\">}</span>\n",
       "--&gt; Found <span style=\"color: #008080; text-decoration-color: #008080; font-weight: bold\">2</span> <span style=\"color: #800080; text-decoration-color: #800080; font-weight: bold\">port</span><span style=\"font-weight: bold\">(</span>s<span style=\"font-weight: bold\">)</span>\n",
       "--&gt; found <span style=\"color: #008000; text-decoration-color: #008000\">'port5'</span>:<span style=\"color: #008080; text-decoration-color: #008080; font-weight: bold\">49178</span>\n",
       "--&gt; found <span style=\"color: #008000; text-decoration-color: #008000\">'port8'</span>:<span style=\"color: #008080; text-decoration-color: #008080; font-weight: bold\">49179</span>\n",
       "--&gt; Check attached databases exists\n",
       "--&gt; Found database-path: DEFAULT_DATABASE_URI\n",
       "--&gt; database <span style=\"color: #008000; text-decoration-color: #008000\">'DEFAULT_DATABASE_URI'</span> is reachable: <span style=\"color: #800080; text-decoration-color: #800080\">/mnt/data/</span><span style=\"color: #ff00ff; text-decoration-color: #ff00ff\">default.csv</span>\n",
       "<span style=\"font-weight: bold\">{</span><span style=\"color: #008000; text-decoration-color: #008000\">'environment'</span>: <span style=\"color: #800080; text-decoration-color: #800080; font-weight: bold\">environ</span><span style=\"font-weight: bold\">({</span><span style=\"color: #008000; text-decoration-color: #008000\">'INPUT_FILE'</span>: <span style=\"color: #008000; text-decoration-color: #008000\">'/mnt/data/task-000000617/input'</span>, <span style=\"color: #008000; text-decoration-color: #008000\">'HOSTNAME'</span>: \n",
       "<span style=\"color: #008000; text-decoration-color: #008000\">'7e76b0f40a30'</span>, <span style=\"color: #008000; text-decoration-color: #008000\">'PYTHON_PIP_VERSION'</span>: <span style=\"color: #008000; text-decoration-color: #008000\">'20.3.3'</span>, <span style=\"color: #008000; text-decoration-color: #008000\">'TOKEN_FILE'</span>: \n",
       "<span style=\"color: #008000; text-decoration-color: #008000\">'/mnt/data/task-000000617/token'</span>, <span style=\"color: #008000; text-decoration-color: #008000\">'PORT'</span>: <span style=\"color: #008000; text-decoration-color: #008000\">'80'</span>, <span style=\"color: #008000; text-decoration-color: #008000\">'HOME'</span>: <span style=\"color: #008000; text-decoration-color: #008000\">'/root'</span>, <span style=\"color: #008000; text-decoration-color: #008000\">'GPG_KEY'</span>: \n",
       "<span style=\"color: #008000; text-decoration-color: #008000\">'0D96DF4D4110E5C43FBFB17F2D347EA6AA65421D'</span>, <span style=\"color: #008000; text-decoration-color: #008000\">'TEMPORARY_FOLDER'</span>: <span style=\"color: #008000; text-decoration-color: #008000\">'/mnt/tmp'</span>, <span style=\"color: #008000; text-decoration-color: #008000\">'API_PATH'</span>: <span style=\"color: #008000; text-decoration-color: #008000\">''</span>, \n",
       "<span style=\"color: #008000; text-decoration-color: #008000\">'PYTHON_GET_PIP_URL'</span>: \n",
       "<span style=\"color: #008000; text-decoration-color: #008000\">'https://github.com/pypa/get-pip/raw/5f38681f7f5872e4032860b54e9cc11cf0374932/get-pip.py'</span>, \n",
       "<span style=\"color: #008000; text-decoration-color: #008000\">'PKG_NAME'</span>: <span style=\"color: #008000; text-decoration-color: #008000\">'v6-feature-tester-py'</span>, <span style=\"color: #008000; text-decoration-color: #008000\">'PATH'</span>: \n",
       "<span style=\"color: #008000; text-decoration-color: #008000\">'/usr/local/bin:/usr/local/sbin:/usr/local/bin:/usr/sbin:/usr/bin:/sbin:/bin'</span>, <span style=\"color: #008000; text-decoration-color: #008000\">'LANG'</span>: \n",
       "<span style=\"color: #008000; text-decoration-color: #008000\">'C.UTF-8'</span>, <span style=\"color: #008000; text-decoration-color: #008000\">'DEFAULT_DATABASE_URI'</span>: <span style=\"color: #008000; text-decoration-color: #008000\">'/mnt/data/default.csv'</span>, <span style=\"color: #008000; text-decoration-color: #008000\">'HOST'</span>: <span style=\"color: #008000; text-decoration-color: #008000\">'http://proxyserver'</span>, \n",
       "<span style=\"color: #008000; text-decoration-color: #008000\">'PYTHON_VERSION'</span>: <span style=\"color: #008000; text-decoration-color: #008000\">'3.7.9'</span>, <span style=\"color: #008000; text-decoration-color: #008000\">'PWD'</span>: <span style=\"color: #008000; text-decoration-color: #008000\">'/'</span>, <span style=\"color: #008000; text-decoration-color: #008000\">'PYTHON_GET_PIP_SHA256'</span>: \n",
       "<span style=\"color: #008000; text-decoration-color: #008000\">'6a0b13826862f33c13b614a921d36253bfa1ae779c5fbf569876f3585057e9d2'</span>, <span style=\"color: #008000; text-decoration-color: #008000\">'OUTPUT_FILE'</span>: \n",
       "<span style=\"color: #008000; text-decoration-color: #008000\">'/mnt/data/task-000000617/output'</span>, <span style=\"color: #008000; text-decoration-color: #008000\">'DATABASE_URI'</span>: <span style=\"color: #008000; text-decoration-color: #008000\">'/mnt/data/default.csv'</span><span style=\"font-weight: bold\">})</span>, \n",
       "<span style=\"color: #008000; text-decoration-color: #008000\">'READ_INPUT_FILE'</span>: <span style=\"font-weight: bold\">{</span><span style=\"color: #008000; text-decoration-color: #008000\">'Success'</span>: <span style=\"color: #00ff00; text-decoration-color: #00ff00; font-style: italic\">True</span><span style=\"font-weight: bold\">}</span>, <span style=\"color: #008000; text-decoration-color: #008000\">'WRITE_READ_OUTPUT_FILE'</span>: <span style=\"font-weight: bold\">{</span><span style=\"color: #008000; text-decoration-color: #008000\">'Success'</span>: <span style=\"color: #00ff00; text-decoration-color: #00ff00; font-style: italic\">True</span><span style=\"font-weight: bold\">}</span>, \n",
       "<span style=\"color: #008000; text-decoration-color: #008000\">'READ_TOKEN_FILE'</span>: <span style=\"font-weight: bold\">{</span><span style=\"color: #008000; text-decoration-color: #008000\">'Success'</span>: <span style=\"color: #00ff00; text-decoration-color: #00ff00; font-style: italic\">True</span><span style=\"font-weight: bold\">}</span>, <span style=\"color: #008000; text-decoration-color: #008000\">'TEMPORARY_VOLUME'</span>: <span style=\"font-weight: bold\">{</span><span style=\"color: #008000; text-decoration-color: #008000\">'Success'</span>: <span style=\"color: #00ff00; text-decoration-color: #00ff00; font-style: italic\">True</span><span style=\"font-weight: bold\">}</span>, \n",
       "<span style=\"color: #008000; text-decoration-color: #008000\">'TEMPORARY_VOLUME_FILE_EXISTS'</span>: <span style=\"font-weight: bold\">{</span><span style=\"color: #008000; text-decoration-color: #008000\">'Success'</span>: <span style=\"color: #00ff00; text-decoration-color: #00ff00; font-style: italic\">True</span><span style=\"font-weight: bold\">}</span>, <span style=\"color: #008000; text-decoration-color: #008000\">'LOCAL_PROXY_CENTRAL_SERVER'</span>: <span style=\"font-weight: bold\">{</span><span style=\"color: #008000; text-decoration-color: #008000\">'Success'</span>: \n",
       "<span style=\"color: #00ff00; text-decoration-color: #00ff00; font-style: italic\">True</span><span style=\"font-weight: bold\">}</span>, <span style=\"color: #008000; text-decoration-color: #008000\">'ISOLATION_TEST'</span>: <span style=\"font-weight: bold\">{</span><span style=\"color: #008000; text-decoration-color: #008000\">'Success'</span>: <span style=\"color: #00ff00; text-decoration-color: #00ff00; font-style: italic\">True</span><span style=\"font-weight: bold\">}</span>, <span style=\"color: #008000; text-decoration-color: #008000\">'EXTERNAL_PORT_TEST'</span>: <span style=\"font-weight: bold\">{</span><span style=\"color: #008000; text-decoration-color: #008000\">'Success'</span>: <span style=\"color: #00ff00; text-decoration-color: #00ff00; font-style: italic\">True</span><span style=\"font-weight: bold\">}}</span>\n",
       "\n",
       "</pre>\n"
      ],
      "text/plain": [
       "--> Reading the environment variables\n",
       "ENVIRONMENT: \u001b[1;35menviron\u001b[0m\u001b[1m(\u001b[0m\u001b[1m{\u001b[0m\u001b[32m'INPUT_FILE'\u001b[0m: \u001b[32m'/mnt/data/task-000000617/input'\u001b[0m, \u001b[32m'HOSTNAME'\u001b[0m: \n",
       "\u001b[32m'7e76b0f40a30'\u001b[0m, \u001b[32m'PYTHON_PIP_VERSION'\u001b[0m: \u001b[32m'20.3.3'\u001b[0m, \u001b[32m'TOKEN_FILE'\u001b[0m: \n",
       "\u001b[32m'/mnt/data/task-000000617/token'\u001b[0m, \u001b[32m'PORT'\u001b[0m: \u001b[32m'80'\u001b[0m, \u001b[32m'HOME'\u001b[0m: \u001b[32m'/root'\u001b[0m, \u001b[32m'GPG_KEY'\u001b[0m: \n",
       "\u001b[32m'0D96DF4D4110E5C43FBFB17F2D347EA6AA65421D'\u001b[0m, \u001b[32m'TEMPORARY_FOLDER'\u001b[0m: \u001b[32m'/mnt/tmp'\u001b[0m, \u001b[32m'API_PATH'\u001b[0m: \u001b[32m''\u001b[0m, \n",
       "\u001b[32m'PYTHON_GET_PIP_URL'\u001b[0m: \n",
       "\u001b[32m'https://github.com/pypa/get-pip/raw/5f38681f7f5872e4032860b54e9cc11cf0374932/get-pip.py'\u001b[0m, \n",
       "\u001b[32m'PKG_NAME'\u001b[0m: \u001b[32m'v6-feature-tester-py'\u001b[0m, \u001b[32m'PATH'\u001b[0m: \n",
       "\u001b[32m'/usr/local/bin:/usr/local/sbin:/usr/local/bin:/usr/sbin:/usr/bin:/sbin:/bin'\u001b[0m, \u001b[32m'LANG'\u001b[0m: \n",
       "\u001b[32m'C.UTF-8'\u001b[0m, \u001b[32m'DEFAULT_DATABASE_URI'\u001b[0m: \u001b[32m'/mnt/data/default.csv'\u001b[0m, \u001b[32m'HOST'\u001b[0m: \u001b[32m'http://proxyserver'\u001b[0m, \n",
       "\u001b[32m'PYTHON_VERSION'\u001b[0m: \u001b[32m'3.7.9'\u001b[0m, \u001b[32m'PWD'\u001b[0m: \u001b[32m'/'\u001b[0m, \u001b[32m'PYTHON_GET_PIP_SHA256'\u001b[0m: \n",
       "\u001b[32m'6a0b13826862f33c13b614a921d36253bfa1ae779c5fbf569876f3585057e9d2'\u001b[0m, \u001b[32m'OUTPUT_FILE'\u001b[0m: \n",
       "\u001b[32m'/mnt/data/task-000000617/output'\u001b[0m, \u001b[32m'DATABASE_URI'\u001b[0m: \u001b[32m'/mnt/data/default.csv'\u001b[0m\u001b[1m}\u001b[0m\u001b[1m)\u001b[0m\n",
       "--> Reading input file\n",
       "INPUT FILE: \u001b[32mb'\\x80\\x04\u001b[0m\u001b[32m}\u001b[0m\u001b[32m\\x94.'\u001b[0m\n",
       "--> Writing to output file \u001b[1m(\u001b[0mcontents: test\u001b[1m)\u001b[0m\n",
       "--> Reading output file back and check\n",
       "test\n",
       "--> Reading token file\n",
       "TOKEN: eyJ0eXAiOiJKV1QiLCJhbGciOiJIUzI1NiJ9.eyJpYXQiOjE2NTIwOTAxOTEsIm5iZiI6MTY1MjA5MDE5MSwia\n",
       "nRpIjoiOThlOThiNWEtZjJhNy00MDQwLWI2NmUtMTkxYTgwYjE2MmVmIiwiaWRlbnRpdHkiOnsidHlwZSI6ImNvbnRhaW\n",
       "5lciIsIm5vZGVfaWQiOjQsIm9yZ2FuaXphdGlvbl9pZCI6MiwiY29sbGFib3JhdGlvbl9pZCI6MSwidGFza19pZCI6MzA\n",
       "wLCJpbWFnZSI6ImhhcmJvcjIudmFudGFnZTYuYWkvaW5mcmFzdHJ1Y3R1cmUvaGVsbG8tdmFudGFnZTYifSwiZnJlc2gi\n",
       "OmZhbHNlLCJ0eXBlIjoiYWNjZXNzIiwidXNlcl9jbGFpbXMiOnsidHlwZSI6ImNvbnRhaW5lciIsInJvbGVzIjpbXX19.\n",
       "G6vEMNLqXHOVt-EW7-zsScoLapNYlLC0mFyUiMUOX3Q\n",
       "--> Test temporary volume\n",
       "--> Writing to temporary file: \u001b[35m/mnt/tmp/\u001b[0m\u001b[95mtest.txt\u001b[0m\n",
       "--> Test that the temporary file is created\n",
       "FILE CREATED: \u001b[3;92mTrue\u001b[0m\n",
       "--> Test that we can reach the local proxy \u001b[1m(\u001b[0mand thereby the server\u001b[1m)\u001b[0m\n",
       "--> Verify that the container has no internet connection\n",
       "--> Connection error catched\n",
       "--> Check that two ports have been published\n",
       "debug\n",
       "\u001b[1m{\u001b[0m\u001b[32m'assigned_at'\u001b[0m: \u001b[32m'2022-05-09T09:56:29.022377+00:00'\u001b[0m, \u001b[32m'finished_at'\u001b[0m: \u001b[3;35mNone\u001b[0m, \u001b[32m'id'\u001b[0m: \u001b[1;36m617\u001b[0m, \u001b[32m'input'\u001b[0m: \n",
       "\u001b[32m'\u001b[0m\u001b[32mgAR9lC4\u001b[0m\u001b[32m='\u001b[0m, \u001b[32m'log'\u001b[0m: \u001b[3;35mNone\u001b[0m, \u001b[32m'node'\u001b[0m: \u001b[1m{\u001b[0m\u001b[32m'id'\u001b[0m: \u001b[1;36m4\u001b[0m, \u001b[32m'ip'\u001b[0m: \u001b[32m'10.76.0.48'\u001b[0m, \u001b[32m'name'\u001b[0m: \u001b[32m'IKNL - testing Node'\u001b[0m,\n",
       "\u001b[32m'status'\u001b[0m: \u001b[32m'online'\u001b[0m\u001b[1m}\u001b[0m, \u001b[32m'organization'\u001b[0m: \u001b[1;36m2\u001b[0m, \u001b[32m'ports'\u001b[0m: \u001b[1m[\u001b[0m\u001b[1m{\u001b[0m\u001b[32m'id'\u001b[0m: \u001b[1;36m219\u001b[0m, \u001b[32m'label'\u001b[0m: \u001b[32m'port5'\u001b[0m, \u001b[32m'port'\u001b[0m: \n",
       "\u001b[1;36m49178\u001b[0m\u001b[1m}\u001b[0m, \u001b[1m{\u001b[0m\u001b[32m'id'\u001b[0m: \u001b[1;36m221\u001b[0m, \u001b[32m'label'\u001b[0m: \u001b[32m'port8'\u001b[0m, \u001b[32m'port'\u001b[0m: \u001b[1;36m49179\u001b[0m\u001b[1m}\u001b[0m\u001b[1m]\u001b[0m, \u001b[32m'result'\u001b[0m: \u001b[3;35mNone\u001b[0m, \u001b[32m'started_at'\u001b[0m: \n",
       "\u001b[32m'2022-05-09T09:56:29.921688+00:00'\u001b[0m, \u001b[32m'task'\u001b[0m: \u001b[1;36m300\u001b[0m\u001b[1m}\u001b[0m\n",
       "--> Found \u001b[1;36m2\u001b[0m \u001b[1;35mport\u001b[0m\u001b[1m(\u001b[0ms\u001b[1m)\u001b[0m\n",
       "--> found \u001b[32m'port5'\u001b[0m:\u001b[1;36m49178\u001b[0m\n",
       "--> found \u001b[32m'port8'\u001b[0m:\u001b[1;36m49179\u001b[0m\n",
       "--> Check attached databases exists\n",
       "--> Found database-path: DEFAULT_DATABASE_URI\n",
       "--> database \u001b[32m'DEFAULT_DATABASE_URI'\u001b[0m is reachable: \u001b[35m/mnt/data/\u001b[0m\u001b[95mdefault.csv\u001b[0m\n",
       "\u001b[1m{\u001b[0m\u001b[32m'environment'\u001b[0m: \u001b[1;35menviron\u001b[0m\u001b[1m(\u001b[0m\u001b[1m{\u001b[0m\u001b[32m'INPUT_FILE'\u001b[0m: \u001b[32m'/mnt/data/task-000000617/input'\u001b[0m, \u001b[32m'HOSTNAME'\u001b[0m: \n",
       "\u001b[32m'7e76b0f40a30'\u001b[0m, \u001b[32m'PYTHON_PIP_VERSION'\u001b[0m: \u001b[32m'20.3.3'\u001b[0m, \u001b[32m'TOKEN_FILE'\u001b[0m: \n",
       "\u001b[32m'/mnt/data/task-000000617/token'\u001b[0m, \u001b[32m'PORT'\u001b[0m: \u001b[32m'80'\u001b[0m, \u001b[32m'HOME'\u001b[0m: \u001b[32m'/root'\u001b[0m, \u001b[32m'GPG_KEY'\u001b[0m: \n",
       "\u001b[32m'0D96DF4D4110E5C43FBFB17F2D347EA6AA65421D'\u001b[0m, \u001b[32m'TEMPORARY_FOLDER'\u001b[0m: \u001b[32m'/mnt/tmp'\u001b[0m, \u001b[32m'API_PATH'\u001b[0m: \u001b[32m''\u001b[0m, \n",
       "\u001b[32m'PYTHON_GET_PIP_URL'\u001b[0m: \n",
       "\u001b[32m'https://github.com/pypa/get-pip/raw/5f38681f7f5872e4032860b54e9cc11cf0374932/get-pip.py'\u001b[0m, \n",
       "\u001b[32m'PKG_NAME'\u001b[0m: \u001b[32m'v6-feature-tester-py'\u001b[0m, \u001b[32m'PATH'\u001b[0m: \n",
       "\u001b[32m'/usr/local/bin:/usr/local/sbin:/usr/local/bin:/usr/sbin:/usr/bin:/sbin:/bin'\u001b[0m, \u001b[32m'LANG'\u001b[0m: \n",
       "\u001b[32m'C.UTF-8'\u001b[0m, \u001b[32m'DEFAULT_DATABASE_URI'\u001b[0m: \u001b[32m'/mnt/data/default.csv'\u001b[0m, \u001b[32m'HOST'\u001b[0m: \u001b[32m'http://proxyserver'\u001b[0m, \n",
       "\u001b[32m'PYTHON_VERSION'\u001b[0m: \u001b[32m'3.7.9'\u001b[0m, \u001b[32m'PWD'\u001b[0m: \u001b[32m'/'\u001b[0m, \u001b[32m'PYTHON_GET_PIP_SHA256'\u001b[0m: \n",
       "\u001b[32m'6a0b13826862f33c13b614a921d36253bfa1ae779c5fbf569876f3585057e9d2'\u001b[0m, \u001b[32m'OUTPUT_FILE'\u001b[0m: \n",
       "\u001b[32m'/mnt/data/task-000000617/output'\u001b[0m, \u001b[32m'DATABASE_URI'\u001b[0m: \u001b[32m'/mnt/data/default.csv'\u001b[0m\u001b[1m}\u001b[0m\u001b[1m)\u001b[0m, \n",
       "\u001b[32m'READ_INPUT_FILE'\u001b[0m: \u001b[1m{\u001b[0m\u001b[32m'Success'\u001b[0m: \u001b[3;92mTrue\u001b[0m\u001b[1m}\u001b[0m, \u001b[32m'WRITE_READ_OUTPUT_FILE'\u001b[0m: \u001b[1m{\u001b[0m\u001b[32m'Success'\u001b[0m: \u001b[3;92mTrue\u001b[0m\u001b[1m}\u001b[0m, \n",
       "\u001b[32m'READ_TOKEN_FILE'\u001b[0m: \u001b[1m{\u001b[0m\u001b[32m'Success'\u001b[0m: \u001b[3;92mTrue\u001b[0m\u001b[1m}\u001b[0m, \u001b[32m'TEMPORARY_VOLUME'\u001b[0m: \u001b[1m{\u001b[0m\u001b[32m'Success'\u001b[0m: \u001b[3;92mTrue\u001b[0m\u001b[1m}\u001b[0m, \n",
       "\u001b[32m'TEMPORARY_VOLUME_FILE_EXISTS'\u001b[0m: \u001b[1m{\u001b[0m\u001b[32m'Success'\u001b[0m: \u001b[3;92mTrue\u001b[0m\u001b[1m}\u001b[0m, \u001b[32m'LOCAL_PROXY_CENTRAL_SERVER'\u001b[0m: \u001b[1m{\u001b[0m\u001b[32m'Success'\u001b[0m: \n",
       "\u001b[3;92mTrue\u001b[0m\u001b[1m}\u001b[0m, \u001b[32m'ISOLATION_TEST'\u001b[0m: \u001b[1m{\u001b[0m\u001b[32m'Success'\u001b[0m: \u001b[3;92mTrue\u001b[0m\u001b[1m}\u001b[0m, \u001b[32m'EXTERNAL_PORT_TEST'\u001b[0m: \u001b[1m{\u001b[0m\u001b[32m'Success'\u001b[0m: \u001b[3;92mTrue\u001b[0m\u001b[1m}\u001b[0m\u001b[1m}\u001b[0m\n",
       "\n"
      ]
     },
     "metadata": {},
     "output_type": "display_data"
    },
    {
     "data": {
      "text/html": [
       "<pre style=\"white-space:pre;overflow-x:auto;line-height:normal;font-family:Menlo,'DejaVu Sans Mono',consolas,'Courier New',monospace\">********************************************************************************\n",
       "</pre>\n"
      ],
      "text/plain": [
       "********************************************************************************\n"
      ]
     },
     "metadata": {},
     "output_type": "display_data"
    },
    {
     "data": {
      "text/html": [
       "<pre style=\"white-space:pre;overflow-x:auto;line-height:normal;font-family:Menlo,'DejaVu Sans Mono',consolas,'Courier New',monospace\">--&gt; Reading the environment variables\n",
       "ENVIRONMENT: <span style=\"color: #800080; text-decoration-color: #800080; font-weight: bold\">environ</span><span style=\"font-weight: bold\">({</span><span style=\"color: #008000; text-decoration-color: #008000\">'INPUT_FILE'</span>: <span style=\"color: #008000; text-decoration-color: #008000\">'/mnt/data/task-000000616/input'</span>, <span style=\"color: #008000; text-decoration-color: #008000\">'HOSTNAME'</span>: \n",
       "<span style=\"color: #008000; text-decoration-color: #008000\">'b5eb99717069'</span>, <span style=\"color: #008000; text-decoration-color: #008000\">'PYTHON_PIP_VERSION'</span>: <span style=\"color: #008000; text-decoration-color: #008000\">'20.3.3'</span>, <span style=\"color: #008000; text-decoration-color: #008000\">'TOKEN_FILE'</span>: \n",
       "<span style=\"color: #008000; text-decoration-color: #008000\">'/mnt/data/task-000000616/token'</span>, <span style=\"color: #008000; text-decoration-color: #008000\">'PORT'</span>: <span style=\"color: #008000; text-decoration-color: #008000\">'80'</span>, <span style=\"color: #008000; text-decoration-color: #008000\">'HOME'</span>: <span style=\"color: #008000; text-decoration-color: #008000\">'/root'</span>, <span style=\"color: #008000; text-decoration-color: #008000\">'GPG_KEY'</span>: \n",
       "<span style=\"color: #008000; text-decoration-color: #008000\">'0D96DF4D4110E5C43FBFB17F2D347EA6AA65421D'</span>, <span style=\"color: #008000; text-decoration-color: #008000\">'TEMPORARY_FOLDER'</span>: <span style=\"color: #008000; text-decoration-color: #008000\">'/mnt/tmp'</span>, <span style=\"color: #008000; text-decoration-color: #008000\">'API_PATH'</span>: <span style=\"color: #008000; text-decoration-color: #008000\">''</span>, \n",
       "<span style=\"color: #008000; text-decoration-color: #008000\">'PYTHON_GET_PIP_URL'</span>: \n",
       "<span style=\"color: #008000; text-decoration-color: #008000\">'https://github.com/pypa/get-pip/raw/5f38681f7f5872e4032860b54e9cc11cf0374932/get-pip.py'</span>, \n",
       "<span style=\"color: #008000; text-decoration-color: #008000\">'PKG_NAME'</span>: <span style=\"color: #008000; text-decoration-color: #008000\">'v6-feature-tester-py'</span>, <span style=\"color: #008000; text-decoration-color: #008000\">'PATH'</span>: \n",
       "<span style=\"color: #008000; text-decoration-color: #008000\">'/usr/local/bin:/usr/local/sbin:/usr/local/bin:/usr/sbin:/usr/bin:/sbin:/bin'</span>, <span style=\"color: #008000; text-decoration-color: #008000\">'LANG'</span>: \n",
       "<span style=\"color: #008000; text-decoration-color: #008000\">'C.UTF-8'</span>, <span style=\"color: #008000; text-decoration-color: #008000\">'DEFAULT_DATABASE_URI'</span>: <span style=\"color: #008000; text-decoration-color: #008000\">'/mnt/data/default.csv'</span>, <span style=\"color: #008000; text-decoration-color: #008000\">'HOST'</span>: <span style=\"color: #008000; text-decoration-color: #008000\">'http://proxyserver'</span>, \n",
       "<span style=\"color: #008000; text-decoration-color: #008000\">'PYTHON_VERSION'</span>: <span style=\"color: #008000; text-decoration-color: #008000\">'3.7.9'</span>, <span style=\"color: #008000; text-decoration-color: #008000\">'PWD'</span>: <span style=\"color: #008000; text-decoration-color: #008000\">'/'</span>, <span style=\"color: #008000; text-decoration-color: #008000\">'PYTHON_GET_PIP_SHA256'</span>: \n",
       "<span style=\"color: #008000; text-decoration-color: #008000\">'6a0b13826862f33c13b614a921d36253bfa1ae779c5fbf569876f3585057e9d2'</span>, <span style=\"color: #008000; text-decoration-color: #008000\">'OUTPUT_FILE'</span>: \n",
       "<span style=\"color: #008000; text-decoration-color: #008000\">'/mnt/data/task-000000616/output'</span>, <span style=\"color: #008000; text-decoration-color: #008000\">'DATABASE_URI'</span>: <span style=\"color: #008000; text-decoration-color: #008000\">'/mnt/data/default.csv'</span><span style=\"font-weight: bold\">})</span>\n",
       "--&gt; Reading input file\n",
       "INPUT FILE: <span style=\"color: #008000; text-decoration-color: #008000\">b'\\x80\\x04}\\x94.'</span>\n",
       "--&gt; Writing to output file <span style=\"font-weight: bold\">(</span>contents: test<span style=\"font-weight: bold\">)</span>\n",
       "--&gt; Reading output file back and check\n",
       "test\n",
       "--&gt; Reading token file\n",
       "TOKEN: eyJ0eXAiOiJKV1QiLCJhbGciOiJIUzI1NiJ9.eyJpYXQiOjE2NTIwOTAxOTIsIm5iZiI6MTY1MjA5MDE5Miwia\n",
       "nRpIjoiNjBlZDlhYTktYWZiOS00MzZlLTgyOGItZTA5NjliZTNiNDY4IiwiaWRlbnRpdHkiOnsidHlwZSI6ImNvbnRhaW\n",
       "5lciIsIm5vZGVfaWQiOjMsIm9yZ2FuaXphdGlvbl9pZCI6MSwiY29sbGFib3JhdGlvbl9pZCI6MSwidGFza19pZCI6MzA\n",
       "wLCJpbWFnZSI6ImhhcmJvcjIudmFudGFnZTYuYWkvaW5mcmFzdHJ1Y3R1cmUvaGVsbG8tdmFudGFnZTYifSwiZnJlc2gi\n",
       "OmZhbHNlLCJ0eXBlIjoiYWNjZXNzIiwidXNlcl9jbGFpbXMiOnsidHlwZSI6ImNvbnRhaW5lciIsInJvbGVzIjpbXX19.\n",
       "xuciHC2LYbrq-l4MGmzZrdudQQ1nSmrzWx5b5cCikoE\n",
       "--&gt; Test temporary volume\n",
       "--&gt; Writing to temporary file: <span style=\"color: #800080; text-decoration-color: #800080\">/mnt/tmp/</span><span style=\"color: #ff00ff; text-decoration-color: #ff00ff\">test.txt</span>\n",
       "--&gt; Test that the temporary file is created\n",
       "FILE CREATED: <span style=\"color: #00ff00; text-decoration-color: #00ff00; font-style: italic\">True</span>\n",
       "--&gt; Test that we can reach the local proxy <span style=\"font-weight: bold\">(</span>and thereby the server<span style=\"font-weight: bold\">)</span>\n",
       "--&gt; Verify that the container has no internet connection\n",
       "--&gt; Connection error catched\n",
       "--&gt; Check that two ports have been published\n",
       "debug\n",
       "<span style=\"font-weight: bold\">{</span><span style=\"color: #008000; text-decoration-color: #008000\">'assigned_at'</span>: <span style=\"color: #008000; text-decoration-color: #008000\">'2022-05-09T09:56:29.022377+00:00'</span>, <span style=\"color: #008000; text-decoration-color: #008000\">'finished_at'</span>: <span style=\"color: #800080; text-decoration-color: #800080; font-style: italic\">None</span>, <span style=\"color: #008000; text-decoration-color: #008000\">'id'</span>: <span style=\"color: #008080; text-decoration-color: #008080; font-weight: bold\">617</span>, <span style=\"color: #008000; text-decoration-color: #008000\">'input'</span>: \n",
       "<span style=\"color: #008000; text-decoration-color: #008000\">'gAR9lC4='</span>, <span style=\"color: #008000; text-decoration-color: #008000\">'log'</span>: <span style=\"color: #800080; text-decoration-color: #800080; font-style: italic\">None</span>, <span style=\"color: #008000; text-decoration-color: #008000\">'node'</span>: <span style=\"font-weight: bold\">{</span><span style=\"color: #008000; text-decoration-color: #008000\">'id'</span>: <span style=\"color: #008080; text-decoration-color: #008080; font-weight: bold\">4</span>, <span style=\"color: #008000; text-decoration-color: #008000\">'ip'</span>: <span style=\"color: #008000; text-decoration-color: #008000\">'10.76.0.48'</span>, <span style=\"color: #008000; text-decoration-color: #008000\">'name'</span>: <span style=\"color: #008000; text-decoration-color: #008000\">'IKNL - testing Node'</span>,\n",
       "<span style=\"color: #008000; text-decoration-color: #008000\">'status'</span>: <span style=\"color: #008000; text-decoration-color: #008000\">'online'</span><span style=\"font-weight: bold\">}</span>, <span style=\"color: #008000; text-decoration-color: #008000\">'organization'</span>: <span style=\"color: #008080; text-decoration-color: #008080; font-weight: bold\">2</span>, <span style=\"color: #008000; text-decoration-color: #008000\">'ports'</span>: <span style=\"font-weight: bold\">[{</span><span style=\"color: #008000; text-decoration-color: #008000\">'id'</span>: <span style=\"color: #008080; text-decoration-color: #008080; font-weight: bold\">219</span>, <span style=\"color: #008000; text-decoration-color: #008000\">'label'</span>: <span style=\"color: #008000; text-decoration-color: #008000\">'port5'</span>, <span style=\"color: #008000; text-decoration-color: #008000\">'port'</span>: \n",
       "<span style=\"color: #008080; text-decoration-color: #008080; font-weight: bold\">49178</span><span style=\"font-weight: bold\">}</span>, <span style=\"font-weight: bold\">{</span><span style=\"color: #008000; text-decoration-color: #008000\">'id'</span>: <span style=\"color: #008080; text-decoration-color: #008080; font-weight: bold\">221</span>, <span style=\"color: #008000; text-decoration-color: #008000\">'label'</span>: <span style=\"color: #008000; text-decoration-color: #008000\">'port8'</span>, <span style=\"color: #008000; text-decoration-color: #008000\">'port'</span>: <span style=\"color: #008080; text-decoration-color: #008080; font-weight: bold\">49179</span><span style=\"font-weight: bold\">}]</span>, <span style=\"color: #008000; text-decoration-color: #008000\">'result'</span>: <span style=\"color: #800080; text-decoration-color: #800080; font-style: italic\">None</span>, <span style=\"color: #008000; text-decoration-color: #008000\">'started_at'</span>: \n",
       "<span style=\"color: #008000; text-decoration-color: #008000\">'2022-05-09T09:56:29.921688+00:00'</span>, <span style=\"color: #008000; text-decoration-color: #008000\">'task'</span>: <span style=\"color: #008080; text-decoration-color: #008080; font-weight: bold\">300</span><span style=\"font-weight: bold\">}</span>\n",
       "--&gt; Found <span style=\"color: #008080; text-decoration-color: #008080; font-weight: bold\">2</span> <span style=\"color: #800080; text-decoration-color: #800080; font-weight: bold\">port</span><span style=\"font-weight: bold\">(</span>s<span style=\"font-weight: bold\">)</span>\n",
       "--&gt; found <span style=\"color: #008000; text-decoration-color: #008000\">'port5'</span>:<span style=\"color: #008080; text-decoration-color: #008080; font-weight: bold\">49178</span>\n",
       "--&gt; found <span style=\"color: #008000; text-decoration-color: #008000\">'port8'</span>:<span style=\"color: #008080; text-decoration-color: #008080; font-weight: bold\">49179</span>\n",
       "--&gt; Check attached databases exists\n",
       "--&gt; Found database-path: DEFAULT_DATABASE_URI\n",
       "--&gt; database <span style=\"color: #008000; text-decoration-color: #008000\">'DEFAULT_DATABASE_URI'</span> is reachable: <span style=\"color: #800080; text-decoration-color: #800080\">/mnt/data/</span><span style=\"color: #ff00ff; text-decoration-color: #ff00ff\">default.csv</span>\n",
       "<span style=\"font-weight: bold\">{</span><span style=\"color: #008000; text-decoration-color: #008000\">'environment'</span>: <span style=\"color: #800080; text-decoration-color: #800080; font-weight: bold\">environ</span><span style=\"font-weight: bold\">({</span><span style=\"color: #008000; text-decoration-color: #008000\">'INPUT_FILE'</span>: <span style=\"color: #008000; text-decoration-color: #008000\">'/mnt/data/task-000000616/input'</span>, <span style=\"color: #008000; text-decoration-color: #008000\">'HOSTNAME'</span>: \n",
       "<span style=\"color: #008000; text-decoration-color: #008000\">'b5eb99717069'</span>, <span style=\"color: #008000; text-decoration-color: #008000\">'PYTHON_PIP_VERSION'</span>: <span style=\"color: #008000; text-decoration-color: #008000\">'20.3.3'</span>, <span style=\"color: #008000; text-decoration-color: #008000\">'TOKEN_FILE'</span>: \n",
       "<span style=\"color: #008000; text-decoration-color: #008000\">'/mnt/data/task-000000616/token'</span>, <span style=\"color: #008000; text-decoration-color: #008000\">'PORT'</span>: <span style=\"color: #008000; text-decoration-color: #008000\">'80'</span>, <span style=\"color: #008000; text-decoration-color: #008000\">'HOME'</span>: <span style=\"color: #008000; text-decoration-color: #008000\">'/root'</span>, <span style=\"color: #008000; text-decoration-color: #008000\">'GPG_KEY'</span>: \n",
       "<span style=\"color: #008000; text-decoration-color: #008000\">'0D96DF4D4110E5C43FBFB17F2D347EA6AA65421D'</span>, <span style=\"color: #008000; text-decoration-color: #008000\">'TEMPORARY_FOLDER'</span>: <span style=\"color: #008000; text-decoration-color: #008000\">'/mnt/tmp'</span>, <span style=\"color: #008000; text-decoration-color: #008000\">'API_PATH'</span>: <span style=\"color: #008000; text-decoration-color: #008000\">''</span>, \n",
       "<span style=\"color: #008000; text-decoration-color: #008000\">'PYTHON_GET_PIP_URL'</span>: \n",
       "<span style=\"color: #008000; text-decoration-color: #008000\">'https://github.com/pypa/get-pip/raw/5f38681f7f5872e4032860b54e9cc11cf0374932/get-pip.py'</span>, \n",
       "<span style=\"color: #008000; text-decoration-color: #008000\">'PKG_NAME'</span>: <span style=\"color: #008000; text-decoration-color: #008000\">'v6-feature-tester-py'</span>, <span style=\"color: #008000; text-decoration-color: #008000\">'PATH'</span>: \n",
       "<span style=\"color: #008000; text-decoration-color: #008000\">'/usr/local/bin:/usr/local/sbin:/usr/local/bin:/usr/sbin:/usr/bin:/sbin:/bin'</span>, <span style=\"color: #008000; text-decoration-color: #008000\">'LANG'</span>: \n",
       "<span style=\"color: #008000; text-decoration-color: #008000\">'C.UTF-8'</span>, <span style=\"color: #008000; text-decoration-color: #008000\">'DEFAULT_DATABASE_URI'</span>: <span style=\"color: #008000; text-decoration-color: #008000\">'/mnt/data/default.csv'</span>, <span style=\"color: #008000; text-decoration-color: #008000\">'HOST'</span>: <span style=\"color: #008000; text-decoration-color: #008000\">'http://proxyserver'</span>, \n",
       "<span style=\"color: #008000; text-decoration-color: #008000\">'PYTHON_VERSION'</span>: <span style=\"color: #008000; text-decoration-color: #008000\">'3.7.9'</span>, <span style=\"color: #008000; text-decoration-color: #008000\">'PWD'</span>: <span style=\"color: #008000; text-decoration-color: #008000\">'/'</span>, <span style=\"color: #008000; text-decoration-color: #008000\">'PYTHON_GET_PIP_SHA256'</span>: \n",
       "<span style=\"color: #008000; text-decoration-color: #008000\">'6a0b13826862f33c13b614a921d36253bfa1ae779c5fbf569876f3585057e9d2'</span>, <span style=\"color: #008000; text-decoration-color: #008000\">'OUTPUT_FILE'</span>: \n",
       "<span style=\"color: #008000; text-decoration-color: #008000\">'/mnt/data/task-000000616/output'</span>, <span style=\"color: #008000; text-decoration-color: #008000\">'DATABASE_URI'</span>: <span style=\"color: #008000; text-decoration-color: #008000\">'/mnt/data/default.csv'</span><span style=\"font-weight: bold\">})</span>, \n",
       "<span style=\"color: #008000; text-decoration-color: #008000\">'READ_INPUT_FILE'</span>: <span style=\"font-weight: bold\">{</span><span style=\"color: #008000; text-decoration-color: #008000\">'Success'</span>: <span style=\"color: #00ff00; text-decoration-color: #00ff00; font-style: italic\">True</span><span style=\"font-weight: bold\">}</span>, <span style=\"color: #008000; text-decoration-color: #008000\">'WRITE_READ_OUTPUT_FILE'</span>: <span style=\"font-weight: bold\">{</span><span style=\"color: #008000; text-decoration-color: #008000\">'Success'</span>: <span style=\"color: #00ff00; text-decoration-color: #00ff00; font-style: italic\">True</span><span style=\"font-weight: bold\">}</span>, \n",
       "<span style=\"color: #008000; text-decoration-color: #008000\">'READ_TOKEN_FILE'</span>: <span style=\"font-weight: bold\">{</span><span style=\"color: #008000; text-decoration-color: #008000\">'Success'</span>: <span style=\"color: #00ff00; text-decoration-color: #00ff00; font-style: italic\">True</span><span style=\"font-weight: bold\">}</span>, <span style=\"color: #008000; text-decoration-color: #008000\">'TEMPORARY_VOLUME'</span>: <span style=\"font-weight: bold\">{</span><span style=\"color: #008000; text-decoration-color: #008000\">'Success'</span>: <span style=\"color: #00ff00; text-decoration-color: #00ff00; font-style: italic\">True</span><span style=\"font-weight: bold\">}</span>, \n",
       "<span style=\"color: #008000; text-decoration-color: #008000\">'TEMPORARY_VOLUME_FILE_EXISTS'</span>: <span style=\"font-weight: bold\">{</span><span style=\"color: #008000; text-decoration-color: #008000\">'Success'</span>: <span style=\"color: #00ff00; text-decoration-color: #00ff00; font-style: italic\">True</span><span style=\"font-weight: bold\">}</span>, <span style=\"color: #008000; text-decoration-color: #008000\">'LOCAL_PROXY_CENTRAL_SERVER'</span>: <span style=\"font-weight: bold\">{</span><span style=\"color: #008000; text-decoration-color: #008000\">'Success'</span>: \n",
       "<span style=\"color: #00ff00; text-decoration-color: #00ff00; font-style: italic\">True</span><span style=\"font-weight: bold\">}</span>, <span style=\"color: #008000; text-decoration-color: #008000\">'ISOLATION_TEST'</span>: <span style=\"font-weight: bold\">{</span><span style=\"color: #008000; text-decoration-color: #008000\">'Success'</span>: <span style=\"color: #00ff00; text-decoration-color: #00ff00; font-style: italic\">True</span><span style=\"font-weight: bold\">}</span>, <span style=\"color: #008000; text-decoration-color: #008000\">'EXTERNAL_PORT_TEST'</span>: <span style=\"font-weight: bold\">{</span><span style=\"color: #008000; text-decoration-color: #008000\">'Success'</span>: <span style=\"color: #00ff00; text-decoration-color: #00ff00; font-style: italic\">True</span><span style=\"font-weight: bold\">}}</span>\n",
       "\n",
       "</pre>\n"
      ],
      "text/plain": [
       "--> Reading the environment variables\n",
       "ENVIRONMENT: \u001b[1;35menviron\u001b[0m\u001b[1m(\u001b[0m\u001b[1m{\u001b[0m\u001b[32m'INPUT_FILE'\u001b[0m: \u001b[32m'/mnt/data/task-000000616/input'\u001b[0m, \u001b[32m'HOSTNAME'\u001b[0m: \n",
       "\u001b[32m'b5eb99717069'\u001b[0m, \u001b[32m'PYTHON_PIP_VERSION'\u001b[0m: \u001b[32m'20.3.3'\u001b[0m, \u001b[32m'TOKEN_FILE'\u001b[0m: \n",
       "\u001b[32m'/mnt/data/task-000000616/token'\u001b[0m, \u001b[32m'PORT'\u001b[0m: \u001b[32m'80'\u001b[0m, \u001b[32m'HOME'\u001b[0m: \u001b[32m'/root'\u001b[0m, \u001b[32m'GPG_KEY'\u001b[0m: \n",
       "\u001b[32m'0D96DF4D4110E5C43FBFB17F2D347EA6AA65421D'\u001b[0m, \u001b[32m'TEMPORARY_FOLDER'\u001b[0m: \u001b[32m'/mnt/tmp'\u001b[0m, \u001b[32m'API_PATH'\u001b[0m: \u001b[32m''\u001b[0m, \n",
       "\u001b[32m'PYTHON_GET_PIP_URL'\u001b[0m: \n",
       "\u001b[32m'https://github.com/pypa/get-pip/raw/5f38681f7f5872e4032860b54e9cc11cf0374932/get-pip.py'\u001b[0m, \n",
       "\u001b[32m'PKG_NAME'\u001b[0m: \u001b[32m'v6-feature-tester-py'\u001b[0m, \u001b[32m'PATH'\u001b[0m: \n",
       "\u001b[32m'/usr/local/bin:/usr/local/sbin:/usr/local/bin:/usr/sbin:/usr/bin:/sbin:/bin'\u001b[0m, \u001b[32m'LANG'\u001b[0m: \n",
       "\u001b[32m'C.UTF-8'\u001b[0m, \u001b[32m'DEFAULT_DATABASE_URI'\u001b[0m: \u001b[32m'/mnt/data/default.csv'\u001b[0m, \u001b[32m'HOST'\u001b[0m: \u001b[32m'http://proxyserver'\u001b[0m, \n",
       "\u001b[32m'PYTHON_VERSION'\u001b[0m: \u001b[32m'3.7.9'\u001b[0m, \u001b[32m'PWD'\u001b[0m: \u001b[32m'/'\u001b[0m, \u001b[32m'PYTHON_GET_PIP_SHA256'\u001b[0m: \n",
       "\u001b[32m'6a0b13826862f33c13b614a921d36253bfa1ae779c5fbf569876f3585057e9d2'\u001b[0m, \u001b[32m'OUTPUT_FILE'\u001b[0m: \n",
       "\u001b[32m'/mnt/data/task-000000616/output'\u001b[0m, \u001b[32m'DATABASE_URI'\u001b[0m: \u001b[32m'/mnt/data/default.csv'\u001b[0m\u001b[1m}\u001b[0m\u001b[1m)\u001b[0m\n",
       "--> Reading input file\n",
       "INPUT FILE: \u001b[32mb'\\x80\\x04\u001b[0m\u001b[32m}\u001b[0m\u001b[32m\\x94.'\u001b[0m\n",
       "--> Writing to output file \u001b[1m(\u001b[0mcontents: test\u001b[1m)\u001b[0m\n",
       "--> Reading output file back and check\n",
       "test\n",
       "--> Reading token file\n",
       "TOKEN: eyJ0eXAiOiJKV1QiLCJhbGciOiJIUzI1NiJ9.eyJpYXQiOjE2NTIwOTAxOTIsIm5iZiI6MTY1MjA5MDE5Miwia\n",
       "nRpIjoiNjBlZDlhYTktYWZiOS00MzZlLTgyOGItZTA5NjliZTNiNDY4IiwiaWRlbnRpdHkiOnsidHlwZSI6ImNvbnRhaW\n",
       "5lciIsIm5vZGVfaWQiOjMsIm9yZ2FuaXphdGlvbl9pZCI6MSwiY29sbGFib3JhdGlvbl9pZCI6MSwidGFza19pZCI6MzA\n",
       "wLCJpbWFnZSI6ImhhcmJvcjIudmFudGFnZTYuYWkvaW5mcmFzdHJ1Y3R1cmUvaGVsbG8tdmFudGFnZTYifSwiZnJlc2gi\n",
       "OmZhbHNlLCJ0eXBlIjoiYWNjZXNzIiwidXNlcl9jbGFpbXMiOnsidHlwZSI6ImNvbnRhaW5lciIsInJvbGVzIjpbXX19.\n",
       "xuciHC2LYbrq-l4MGmzZrdudQQ1nSmrzWx5b5cCikoE\n",
       "--> Test temporary volume\n",
       "--> Writing to temporary file: \u001b[35m/mnt/tmp/\u001b[0m\u001b[95mtest.txt\u001b[0m\n",
       "--> Test that the temporary file is created\n",
       "FILE CREATED: \u001b[3;92mTrue\u001b[0m\n",
       "--> Test that we can reach the local proxy \u001b[1m(\u001b[0mand thereby the server\u001b[1m)\u001b[0m\n",
       "--> Verify that the container has no internet connection\n",
       "--> Connection error catched\n",
       "--> Check that two ports have been published\n",
       "debug\n",
       "\u001b[1m{\u001b[0m\u001b[32m'assigned_at'\u001b[0m: \u001b[32m'2022-05-09T09:56:29.022377+00:00'\u001b[0m, \u001b[32m'finished_at'\u001b[0m: \u001b[3;35mNone\u001b[0m, \u001b[32m'id'\u001b[0m: \u001b[1;36m617\u001b[0m, \u001b[32m'input'\u001b[0m: \n",
       "\u001b[32m'\u001b[0m\u001b[32mgAR9lC4\u001b[0m\u001b[32m='\u001b[0m, \u001b[32m'log'\u001b[0m: \u001b[3;35mNone\u001b[0m, \u001b[32m'node'\u001b[0m: \u001b[1m{\u001b[0m\u001b[32m'id'\u001b[0m: \u001b[1;36m4\u001b[0m, \u001b[32m'ip'\u001b[0m: \u001b[32m'10.76.0.48'\u001b[0m, \u001b[32m'name'\u001b[0m: \u001b[32m'IKNL - testing Node'\u001b[0m,\n",
       "\u001b[32m'status'\u001b[0m: \u001b[32m'online'\u001b[0m\u001b[1m}\u001b[0m, \u001b[32m'organization'\u001b[0m: \u001b[1;36m2\u001b[0m, \u001b[32m'ports'\u001b[0m: \u001b[1m[\u001b[0m\u001b[1m{\u001b[0m\u001b[32m'id'\u001b[0m: \u001b[1;36m219\u001b[0m, \u001b[32m'label'\u001b[0m: \u001b[32m'port5'\u001b[0m, \u001b[32m'port'\u001b[0m: \n",
       "\u001b[1;36m49178\u001b[0m\u001b[1m}\u001b[0m, \u001b[1m{\u001b[0m\u001b[32m'id'\u001b[0m: \u001b[1;36m221\u001b[0m, \u001b[32m'label'\u001b[0m: \u001b[32m'port8'\u001b[0m, \u001b[32m'port'\u001b[0m: \u001b[1;36m49179\u001b[0m\u001b[1m}\u001b[0m\u001b[1m]\u001b[0m, \u001b[32m'result'\u001b[0m: \u001b[3;35mNone\u001b[0m, \u001b[32m'started_at'\u001b[0m: \n",
       "\u001b[32m'2022-05-09T09:56:29.921688+00:00'\u001b[0m, \u001b[32m'task'\u001b[0m: \u001b[1;36m300\u001b[0m\u001b[1m}\u001b[0m\n",
       "--> Found \u001b[1;36m2\u001b[0m \u001b[1;35mport\u001b[0m\u001b[1m(\u001b[0ms\u001b[1m)\u001b[0m\n",
       "--> found \u001b[32m'port5'\u001b[0m:\u001b[1;36m49178\u001b[0m\n",
       "--> found \u001b[32m'port8'\u001b[0m:\u001b[1;36m49179\u001b[0m\n",
       "--> Check attached databases exists\n",
       "--> Found database-path: DEFAULT_DATABASE_URI\n",
       "--> database \u001b[32m'DEFAULT_DATABASE_URI'\u001b[0m is reachable: \u001b[35m/mnt/data/\u001b[0m\u001b[95mdefault.csv\u001b[0m\n",
       "\u001b[1m{\u001b[0m\u001b[32m'environment'\u001b[0m: \u001b[1;35menviron\u001b[0m\u001b[1m(\u001b[0m\u001b[1m{\u001b[0m\u001b[32m'INPUT_FILE'\u001b[0m: \u001b[32m'/mnt/data/task-000000616/input'\u001b[0m, \u001b[32m'HOSTNAME'\u001b[0m: \n",
       "\u001b[32m'b5eb99717069'\u001b[0m, \u001b[32m'PYTHON_PIP_VERSION'\u001b[0m: \u001b[32m'20.3.3'\u001b[0m, \u001b[32m'TOKEN_FILE'\u001b[0m: \n",
       "\u001b[32m'/mnt/data/task-000000616/token'\u001b[0m, \u001b[32m'PORT'\u001b[0m: \u001b[32m'80'\u001b[0m, \u001b[32m'HOME'\u001b[0m: \u001b[32m'/root'\u001b[0m, \u001b[32m'GPG_KEY'\u001b[0m: \n",
       "\u001b[32m'0D96DF4D4110E5C43FBFB17F2D347EA6AA65421D'\u001b[0m, \u001b[32m'TEMPORARY_FOLDER'\u001b[0m: \u001b[32m'/mnt/tmp'\u001b[0m, \u001b[32m'API_PATH'\u001b[0m: \u001b[32m''\u001b[0m, \n",
       "\u001b[32m'PYTHON_GET_PIP_URL'\u001b[0m: \n",
       "\u001b[32m'https://github.com/pypa/get-pip/raw/5f38681f7f5872e4032860b54e9cc11cf0374932/get-pip.py'\u001b[0m, \n",
       "\u001b[32m'PKG_NAME'\u001b[0m: \u001b[32m'v6-feature-tester-py'\u001b[0m, \u001b[32m'PATH'\u001b[0m: \n",
       "\u001b[32m'/usr/local/bin:/usr/local/sbin:/usr/local/bin:/usr/sbin:/usr/bin:/sbin:/bin'\u001b[0m, \u001b[32m'LANG'\u001b[0m: \n",
       "\u001b[32m'C.UTF-8'\u001b[0m, \u001b[32m'DEFAULT_DATABASE_URI'\u001b[0m: \u001b[32m'/mnt/data/default.csv'\u001b[0m, \u001b[32m'HOST'\u001b[0m: \u001b[32m'http://proxyserver'\u001b[0m, \n",
       "\u001b[32m'PYTHON_VERSION'\u001b[0m: \u001b[32m'3.7.9'\u001b[0m, \u001b[32m'PWD'\u001b[0m: \u001b[32m'/'\u001b[0m, \u001b[32m'PYTHON_GET_PIP_SHA256'\u001b[0m: \n",
       "\u001b[32m'6a0b13826862f33c13b614a921d36253bfa1ae779c5fbf569876f3585057e9d2'\u001b[0m, \u001b[32m'OUTPUT_FILE'\u001b[0m: \n",
       "\u001b[32m'/mnt/data/task-000000616/output'\u001b[0m, \u001b[32m'DATABASE_URI'\u001b[0m: \u001b[32m'/mnt/data/default.csv'\u001b[0m\u001b[1m}\u001b[0m\u001b[1m)\u001b[0m, \n",
       "\u001b[32m'READ_INPUT_FILE'\u001b[0m: \u001b[1m{\u001b[0m\u001b[32m'Success'\u001b[0m: \u001b[3;92mTrue\u001b[0m\u001b[1m}\u001b[0m, \u001b[32m'WRITE_READ_OUTPUT_FILE'\u001b[0m: \u001b[1m{\u001b[0m\u001b[32m'Success'\u001b[0m: \u001b[3;92mTrue\u001b[0m\u001b[1m}\u001b[0m, \n",
       "\u001b[32m'READ_TOKEN_FILE'\u001b[0m: \u001b[1m{\u001b[0m\u001b[32m'Success'\u001b[0m: \u001b[3;92mTrue\u001b[0m\u001b[1m}\u001b[0m, \u001b[32m'TEMPORARY_VOLUME'\u001b[0m: \u001b[1m{\u001b[0m\u001b[32m'Success'\u001b[0m: \u001b[3;92mTrue\u001b[0m\u001b[1m}\u001b[0m, \n",
       "\u001b[32m'TEMPORARY_VOLUME_FILE_EXISTS'\u001b[0m: \u001b[1m{\u001b[0m\u001b[32m'Success'\u001b[0m: \u001b[3;92mTrue\u001b[0m\u001b[1m}\u001b[0m, \u001b[32m'LOCAL_PROXY_CENTRAL_SERVER'\u001b[0m: \u001b[1m{\u001b[0m\u001b[32m'Success'\u001b[0m: \n",
       "\u001b[3;92mTrue\u001b[0m\u001b[1m}\u001b[0m, \u001b[32m'ISOLATION_TEST'\u001b[0m: \u001b[1m{\u001b[0m\u001b[32m'Success'\u001b[0m: \u001b[3;92mTrue\u001b[0m\u001b[1m}\u001b[0m, \u001b[32m'EXTERNAL_PORT_TEST'\u001b[0m: \u001b[1m{\u001b[0m\u001b[32m'Success'\u001b[0m: \u001b[3;92mTrue\u001b[0m\u001b[1m}\u001b[0m\u001b[1m}\u001b[0m\n",
       "\n"
      ]
     },
     "metadata": {},
     "output_type": "display_data"
    },
    {
     "data": {
      "text/html": [
       "<pre style=\"white-space:pre;overflow-x:auto;line-height:normal;font-family:Menlo,'DejaVu Sans Mono',consolas,'Courier New',monospace\">********************************************************************************\n",
       "</pre>\n"
      ],
      "text/plain": [
       "********************************************************************************\n"
      ]
     },
     "metadata": {},
     "output_type": "display_data"
    },
    {
     "data": {
      "text/html": [
       "<pre style=\"white-space:pre;overflow-x:auto;line-height:normal;font-family:Menlo,'DejaVu Sans Mono',consolas,'Courier New',monospace\">--&gt; Reading the environment variables\n",
       "ENVIRONMENT: <span style=\"color: #800080; text-decoration-color: #800080; font-weight: bold\">environ</span><span style=\"font-weight: bold\">({</span><span style=\"color: #008000; text-decoration-color: #008000\">'INPUT_FILE'</span>: <span style=\"color: #008000; text-decoration-color: #008000\">'/mnt/data/task-000000617/input'</span>, <span style=\"color: #008000; text-decoration-color: #008000\">'HOSTNAME'</span>: \n",
       "<span style=\"color: #008000; text-decoration-color: #008000\">'7e76b0f40a30'</span>, <span style=\"color: #008000; text-decoration-color: #008000\">'PYTHON_PIP_VERSION'</span>: <span style=\"color: #008000; text-decoration-color: #008000\">'20.3.3'</span>, <span style=\"color: #008000; text-decoration-color: #008000\">'TOKEN_FILE'</span>: \n",
       "<span style=\"color: #008000; text-decoration-color: #008000\">'/mnt/data/task-000000617/token'</span>, <span style=\"color: #008000; text-decoration-color: #008000\">'PORT'</span>: <span style=\"color: #008000; text-decoration-color: #008000\">'80'</span>, <span style=\"color: #008000; text-decoration-color: #008000\">'HOME'</span>: <span style=\"color: #008000; text-decoration-color: #008000\">'/root'</span>, <span style=\"color: #008000; text-decoration-color: #008000\">'GPG_KEY'</span>: \n",
       "<span style=\"color: #008000; text-decoration-color: #008000\">'0D96DF4D4110E5C43FBFB17F2D347EA6AA65421D'</span>, <span style=\"color: #008000; text-decoration-color: #008000\">'TEMPORARY_FOLDER'</span>: <span style=\"color: #008000; text-decoration-color: #008000\">'/mnt/tmp'</span>, <span style=\"color: #008000; text-decoration-color: #008000\">'API_PATH'</span>: <span style=\"color: #008000; text-decoration-color: #008000\">''</span>, \n",
       "<span style=\"color: #008000; text-decoration-color: #008000\">'PYTHON_GET_PIP_URL'</span>: \n",
       "<span style=\"color: #008000; text-decoration-color: #008000\">'https://github.com/pypa/get-pip/raw/5f38681f7f5872e4032860b54e9cc11cf0374932/get-pip.py'</span>, \n",
       "<span style=\"color: #008000; text-decoration-color: #008000\">'PKG_NAME'</span>: <span style=\"color: #008000; text-decoration-color: #008000\">'v6-feature-tester-py'</span>, <span style=\"color: #008000; text-decoration-color: #008000\">'PATH'</span>: \n",
       "<span style=\"color: #008000; text-decoration-color: #008000\">'/usr/local/bin:/usr/local/sbin:/usr/local/bin:/usr/sbin:/usr/bin:/sbin:/bin'</span>, <span style=\"color: #008000; text-decoration-color: #008000\">'LANG'</span>: \n",
       "<span style=\"color: #008000; text-decoration-color: #008000\">'C.UTF-8'</span>, <span style=\"color: #008000; text-decoration-color: #008000\">'DEFAULT_DATABASE_URI'</span>: <span style=\"color: #008000; text-decoration-color: #008000\">'/mnt/data/default.csv'</span>, <span style=\"color: #008000; text-decoration-color: #008000\">'HOST'</span>: <span style=\"color: #008000; text-decoration-color: #008000\">'http://proxyserver'</span>, \n",
       "<span style=\"color: #008000; text-decoration-color: #008000\">'PYTHON_VERSION'</span>: <span style=\"color: #008000; text-decoration-color: #008000\">'3.7.9'</span>, <span style=\"color: #008000; text-decoration-color: #008000\">'PWD'</span>: <span style=\"color: #008000; text-decoration-color: #008000\">'/'</span>, <span style=\"color: #008000; text-decoration-color: #008000\">'PYTHON_GET_PIP_SHA256'</span>: \n",
       "<span style=\"color: #008000; text-decoration-color: #008000\">'6a0b13826862f33c13b614a921d36253bfa1ae779c5fbf569876f3585057e9d2'</span>, <span style=\"color: #008000; text-decoration-color: #008000\">'OUTPUT_FILE'</span>: \n",
       "<span style=\"color: #008000; text-decoration-color: #008000\">'/mnt/data/task-000000617/output'</span>, <span style=\"color: #008000; text-decoration-color: #008000\">'DATABASE_URI'</span>: <span style=\"color: #008000; text-decoration-color: #008000\">'/mnt/data/default.csv'</span><span style=\"font-weight: bold\">})</span>\n",
       "--&gt; Reading input file\n",
       "INPUT FILE: <span style=\"color: #008000; text-decoration-color: #008000\">b'\\x80\\x04}\\x94.'</span>\n",
       "--&gt; Writing to output file <span style=\"font-weight: bold\">(</span>contents: test<span style=\"font-weight: bold\">)</span>\n",
       "--&gt; Reading output file back and check\n",
       "test\n",
       "--&gt; Reading token file\n",
       "TOKEN: eyJ0eXAiOiJKV1QiLCJhbGciOiJIUzI1NiJ9.eyJpYXQiOjE2NTIwOTAxOTEsIm5iZiI6MTY1MjA5MDE5MSwia\n",
       "nRpIjoiOThlOThiNWEtZjJhNy00MDQwLWI2NmUtMTkxYTgwYjE2MmVmIiwiaWRlbnRpdHkiOnsidHlwZSI6ImNvbnRhaW\n",
       "5lciIsIm5vZGVfaWQiOjQsIm9yZ2FuaXphdGlvbl9pZCI6MiwiY29sbGFib3JhdGlvbl9pZCI6MSwidGFza19pZCI6MzA\n",
       "wLCJpbWFnZSI6ImhhcmJvcjIudmFudGFnZTYuYWkvaW5mcmFzdHJ1Y3R1cmUvaGVsbG8tdmFudGFnZTYifSwiZnJlc2gi\n",
       "OmZhbHNlLCJ0eXBlIjoiYWNjZXNzIiwidXNlcl9jbGFpbXMiOnsidHlwZSI6ImNvbnRhaW5lciIsInJvbGVzIjpbXX19.\n",
       "G6vEMNLqXHOVt-EW7-zsScoLapNYlLC0mFyUiMUOX3Q\n",
       "--&gt; Test temporary volume\n",
       "--&gt; Writing to temporary file: <span style=\"color: #800080; text-decoration-color: #800080\">/mnt/tmp/</span><span style=\"color: #ff00ff; text-decoration-color: #ff00ff\">test.txt</span>\n",
       "--&gt; Test that the temporary file is created\n",
       "FILE CREATED: <span style=\"color: #00ff00; text-decoration-color: #00ff00; font-style: italic\">True</span>\n",
       "--&gt; Test that we can reach the local proxy <span style=\"font-weight: bold\">(</span>and thereby the server<span style=\"font-weight: bold\">)</span>\n",
       "--&gt; Verify that the container has no internet connection\n",
       "--&gt; Connection error catched\n",
       "--&gt; Check that two ports have been published\n",
       "debug\n",
       "<span style=\"font-weight: bold\">{</span><span style=\"color: #008000; text-decoration-color: #008000\">'assigned_at'</span>: <span style=\"color: #008000; text-decoration-color: #008000\">'2022-05-09T09:56:29.022377+00:00'</span>, <span style=\"color: #008000; text-decoration-color: #008000\">'finished_at'</span>: <span style=\"color: #800080; text-decoration-color: #800080; font-style: italic\">None</span>, <span style=\"color: #008000; text-decoration-color: #008000\">'id'</span>: <span style=\"color: #008080; text-decoration-color: #008080; font-weight: bold\">617</span>, <span style=\"color: #008000; text-decoration-color: #008000\">'input'</span>: \n",
       "<span style=\"color: #008000; text-decoration-color: #008000\">'gAR9lC4='</span>, <span style=\"color: #008000; text-decoration-color: #008000\">'log'</span>: <span style=\"color: #800080; text-decoration-color: #800080; font-style: italic\">None</span>, <span style=\"color: #008000; text-decoration-color: #008000\">'node'</span>: <span style=\"font-weight: bold\">{</span><span style=\"color: #008000; text-decoration-color: #008000\">'id'</span>: <span style=\"color: #008080; text-decoration-color: #008080; font-weight: bold\">4</span>, <span style=\"color: #008000; text-decoration-color: #008000\">'ip'</span>: <span style=\"color: #008000; text-decoration-color: #008000\">'10.76.0.48'</span>, <span style=\"color: #008000; text-decoration-color: #008000\">'name'</span>: <span style=\"color: #008000; text-decoration-color: #008000\">'IKNL - testing Node'</span>,\n",
       "<span style=\"color: #008000; text-decoration-color: #008000\">'status'</span>: <span style=\"color: #008000; text-decoration-color: #008000\">'online'</span><span style=\"font-weight: bold\">}</span>, <span style=\"color: #008000; text-decoration-color: #008000\">'organization'</span>: <span style=\"color: #008080; text-decoration-color: #008080; font-weight: bold\">2</span>, <span style=\"color: #008000; text-decoration-color: #008000\">'ports'</span>: <span style=\"font-weight: bold\">[{</span><span style=\"color: #008000; text-decoration-color: #008000\">'id'</span>: <span style=\"color: #008080; text-decoration-color: #008080; font-weight: bold\">219</span>, <span style=\"color: #008000; text-decoration-color: #008000\">'label'</span>: <span style=\"color: #008000; text-decoration-color: #008000\">'port5'</span>, <span style=\"color: #008000; text-decoration-color: #008000\">'port'</span>: \n",
       "<span style=\"color: #008080; text-decoration-color: #008080; font-weight: bold\">49178</span><span style=\"font-weight: bold\">}</span>, <span style=\"font-weight: bold\">{</span><span style=\"color: #008000; text-decoration-color: #008000\">'id'</span>: <span style=\"color: #008080; text-decoration-color: #008080; font-weight: bold\">221</span>, <span style=\"color: #008000; text-decoration-color: #008000\">'label'</span>: <span style=\"color: #008000; text-decoration-color: #008000\">'port8'</span>, <span style=\"color: #008000; text-decoration-color: #008000\">'port'</span>: <span style=\"color: #008080; text-decoration-color: #008080; font-weight: bold\">49179</span><span style=\"font-weight: bold\">}]</span>, <span style=\"color: #008000; text-decoration-color: #008000\">'result'</span>: <span style=\"color: #800080; text-decoration-color: #800080; font-style: italic\">None</span>, <span style=\"color: #008000; text-decoration-color: #008000\">'started_at'</span>: \n",
       "<span style=\"color: #008000; text-decoration-color: #008000\">'2022-05-09T09:56:29.921688+00:00'</span>, <span style=\"color: #008000; text-decoration-color: #008000\">'task'</span>: <span style=\"color: #008080; text-decoration-color: #008080; font-weight: bold\">300</span><span style=\"font-weight: bold\">}</span>\n",
       "--&gt; Found <span style=\"color: #008080; text-decoration-color: #008080; font-weight: bold\">2</span> <span style=\"color: #800080; text-decoration-color: #800080; font-weight: bold\">port</span><span style=\"font-weight: bold\">(</span>s<span style=\"font-weight: bold\">)</span>\n",
       "--&gt; found <span style=\"color: #008000; text-decoration-color: #008000\">'port5'</span>:<span style=\"color: #008080; text-decoration-color: #008080; font-weight: bold\">49178</span>\n",
       "--&gt; found <span style=\"color: #008000; text-decoration-color: #008000\">'port8'</span>:<span style=\"color: #008080; text-decoration-color: #008080; font-weight: bold\">49179</span>\n",
       "--&gt; Check attached databases exists\n",
       "--&gt; Found database-path: DEFAULT_DATABASE_URI\n",
       "--&gt; database <span style=\"color: #008000; text-decoration-color: #008000\">'DEFAULT_DATABASE_URI'</span> is reachable: <span style=\"color: #800080; text-decoration-color: #800080\">/mnt/data/</span><span style=\"color: #ff00ff; text-decoration-color: #ff00ff\">default.csv</span>\n",
       "<span style=\"font-weight: bold\">{</span><span style=\"color: #008000; text-decoration-color: #008000\">'environment'</span>: <span style=\"color: #800080; text-decoration-color: #800080; font-weight: bold\">environ</span><span style=\"font-weight: bold\">({</span><span style=\"color: #008000; text-decoration-color: #008000\">'INPUT_FILE'</span>: <span style=\"color: #008000; text-decoration-color: #008000\">'/mnt/data/task-000000617/input'</span>, <span style=\"color: #008000; text-decoration-color: #008000\">'HOSTNAME'</span>: \n",
       "<span style=\"color: #008000; text-decoration-color: #008000\">'7e76b0f40a30'</span>, <span style=\"color: #008000; text-decoration-color: #008000\">'PYTHON_PIP_VERSION'</span>: <span style=\"color: #008000; text-decoration-color: #008000\">'20.3.3'</span>, <span style=\"color: #008000; text-decoration-color: #008000\">'TOKEN_FILE'</span>: \n",
       "<span style=\"color: #008000; text-decoration-color: #008000\">'/mnt/data/task-000000617/token'</span>, <span style=\"color: #008000; text-decoration-color: #008000\">'PORT'</span>: <span style=\"color: #008000; text-decoration-color: #008000\">'80'</span>, <span style=\"color: #008000; text-decoration-color: #008000\">'HOME'</span>: <span style=\"color: #008000; text-decoration-color: #008000\">'/root'</span>, <span style=\"color: #008000; text-decoration-color: #008000\">'GPG_KEY'</span>: \n",
       "<span style=\"color: #008000; text-decoration-color: #008000\">'0D96DF4D4110E5C43FBFB17F2D347EA6AA65421D'</span>, <span style=\"color: #008000; text-decoration-color: #008000\">'TEMPORARY_FOLDER'</span>: <span style=\"color: #008000; text-decoration-color: #008000\">'/mnt/tmp'</span>, <span style=\"color: #008000; text-decoration-color: #008000\">'API_PATH'</span>: <span style=\"color: #008000; text-decoration-color: #008000\">''</span>, \n",
       "<span style=\"color: #008000; text-decoration-color: #008000\">'PYTHON_GET_PIP_URL'</span>: \n",
       "<span style=\"color: #008000; text-decoration-color: #008000\">'https://github.com/pypa/get-pip/raw/5f38681f7f5872e4032860b54e9cc11cf0374932/get-pip.py'</span>, \n",
       "<span style=\"color: #008000; text-decoration-color: #008000\">'PKG_NAME'</span>: <span style=\"color: #008000; text-decoration-color: #008000\">'v6-feature-tester-py'</span>, <span style=\"color: #008000; text-decoration-color: #008000\">'PATH'</span>: \n",
       "<span style=\"color: #008000; text-decoration-color: #008000\">'/usr/local/bin:/usr/local/sbin:/usr/local/bin:/usr/sbin:/usr/bin:/sbin:/bin'</span>, <span style=\"color: #008000; text-decoration-color: #008000\">'LANG'</span>: \n",
       "<span style=\"color: #008000; text-decoration-color: #008000\">'C.UTF-8'</span>, <span style=\"color: #008000; text-decoration-color: #008000\">'DEFAULT_DATABASE_URI'</span>: <span style=\"color: #008000; text-decoration-color: #008000\">'/mnt/data/default.csv'</span>, <span style=\"color: #008000; text-decoration-color: #008000\">'HOST'</span>: <span style=\"color: #008000; text-decoration-color: #008000\">'http://proxyserver'</span>, \n",
       "<span style=\"color: #008000; text-decoration-color: #008000\">'PYTHON_VERSION'</span>: <span style=\"color: #008000; text-decoration-color: #008000\">'3.7.9'</span>, <span style=\"color: #008000; text-decoration-color: #008000\">'PWD'</span>: <span style=\"color: #008000; text-decoration-color: #008000\">'/'</span>, <span style=\"color: #008000; text-decoration-color: #008000\">'PYTHON_GET_PIP_SHA256'</span>: \n",
       "<span style=\"color: #008000; text-decoration-color: #008000\">'6a0b13826862f33c13b614a921d36253bfa1ae779c5fbf569876f3585057e9d2'</span>, <span style=\"color: #008000; text-decoration-color: #008000\">'OUTPUT_FILE'</span>: \n",
       "<span style=\"color: #008000; text-decoration-color: #008000\">'/mnt/data/task-000000617/output'</span>, <span style=\"color: #008000; text-decoration-color: #008000\">'DATABASE_URI'</span>: <span style=\"color: #008000; text-decoration-color: #008000\">'/mnt/data/default.csv'</span><span style=\"font-weight: bold\">})</span>, \n",
       "<span style=\"color: #008000; text-decoration-color: #008000\">'READ_INPUT_FILE'</span>: <span style=\"font-weight: bold\">{</span><span style=\"color: #008000; text-decoration-color: #008000\">'Success'</span>: <span style=\"color: #00ff00; text-decoration-color: #00ff00; font-style: italic\">True</span><span style=\"font-weight: bold\">}</span>, <span style=\"color: #008000; text-decoration-color: #008000\">'WRITE_READ_OUTPUT_FILE'</span>: <span style=\"font-weight: bold\">{</span><span style=\"color: #008000; text-decoration-color: #008000\">'Success'</span>: <span style=\"color: #00ff00; text-decoration-color: #00ff00; font-style: italic\">True</span><span style=\"font-weight: bold\">}</span>, \n",
       "<span style=\"color: #008000; text-decoration-color: #008000\">'READ_TOKEN_FILE'</span>: <span style=\"font-weight: bold\">{</span><span style=\"color: #008000; text-decoration-color: #008000\">'Success'</span>: <span style=\"color: #00ff00; text-decoration-color: #00ff00; font-style: italic\">True</span><span style=\"font-weight: bold\">}</span>, <span style=\"color: #008000; text-decoration-color: #008000\">'TEMPORARY_VOLUME'</span>: <span style=\"font-weight: bold\">{</span><span style=\"color: #008000; text-decoration-color: #008000\">'Success'</span>: <span style=\"color: #00ff00; text-decoration-color: #00ff00; font-style: italic\">True</span><span style=\"font-weight: bold\">}</span>, \n",
       "<span style=\"color: #008000; text-decoration-color: #008000\">'TEMPORARY_VOLUME_FILE_EXISTS'</span>: <span style=\"font-weight: bold\">{</span><span style=\"color: #008000; text-decoration-color: #008000\">'Success'</span>: <span style=\"color: #00ff00; text-decoration-color: #00ff00; font-style: italic\">True</span><span style=\"font-weight: bold\">}</span>, <span style=\"color: #008000; text-decoration-color: #008000\">'LOCAL_PROXY_CENTRAL_SERVER'</span>: <span style=\"font-weight: bold\">{</span><span style=\"color: #008000; text-decoration-color: #008000\">'Success'</span>: \n",
       "<span style=\"color: #00ff00; text-decoration-color: #00ff00; font-style: italic\">True</span><span style=\"font-weight: bold\">}</span>, <span style=\"color: #008000; text-decoration-color: #008000\">'ISOLATION_TEST'</span>: <span style=\"font-weight: bold\">{</span><span style=\"color: #008000; text-decoration-color: #008000\">'Success'</span>: <span style=\"color: #00ff00; text-decoration-color: #00ff00; font-style: italic\">True</span><span style=\"font-weight: bold\">}</span>, <span style=\"color: #008000; text-decoration-color: #008000\">'EXTERNAL_PORT_TEST'</span>: <span style=\"font-weight: bold\">{</span><span style=\"color: #008000; text-decoration-color: #008000\">'Success'</span>: <span style=\"color: #00ff00; text-decoration-color: #00ff00; font-style: italic\">True</span><span style=\"font-weight: bold\">}}</span>\n",
       "\n",
       "</pre>\n"
      ],
      "text/plain": [
       "--> Reading the environment variables\n",
       "ENVIRONMENT: \u001b[1;35menviron\u001b[0m\u001b[1m(\u001b[0m\u001b[1m{\u001b[0m\u001b[32m'INPUT_FILE'\u001b[0m: \u001b[32m'/mnt/data/task-000000617/input'\u001b[0m, \u001b[32m'HOSTNAME'\u001b[0m: \n",
       "\u001b[32m'7e76b0f40a30'\u001b[0m, \u001b[32m'PYTHON_PIP_VERSION'\u001b[0m: \u001b[32m'20.3.3'\u001b[0m, \u001b[32m'TOKEN_FILE'\u001b[0m: \n",
       "\u001b[32m'/mnt/data/task-000000617/token'\u001b[0m, \u001b[32m'PORT'\u001b[0m: \u001b[32m'80'\u001b[0m, \u001b[32m'HOME'\u001b[0m: \u001b[32m'/root'\u001b[0m, \u001b[32m'GPG_KEY'\u001b[0m: \n",
       "\u001b[32m'0D96DF4D4110E5C43FBFB17F2D347EA6AA65421D'\u001b[0m, \u001b[32m'TEMPORARY_FOLDER'\u001b[0m: \u001b[32m'/mnt/tmp'\u001b[0m, \u001b[32m'API_PATH'\u001b[0m: \u001b[32m''\u001b[0m, \n",
       "\u001b[32m'PYTHON_GET_PIP_URL'\u001b[0m: \n",
       "\u001b[32m'https://github.com/pypa/get-pip/raw/5f38681f7f5872e4032860b54e9cc11cf0374932/get-pip.py'\u001b[0m, \n",
       "\u001b[32m'PKG_NAME'\u001b[0m: \u001b[32m'v6-feature-tester-py'\u001b[0m, \u001b[32m'PATH'\u001b[0m: \n",
       "\u001b[32m'/usr/local/bin:/usr/local/sbin:/usr/local/bin:/usr/sbin:/usr/bin:/sbin:/bin'\u001b[0m, \u001b[32m'LANG'\u001b[0m: \n",
       "\u001b[32m'C.UTF-8'\u001b[0m, \u001b[32m'DEFAULT_DATABASE_URI'\u001b[0m: \u001b[32m'/mnt/data/default.csv'\u001b[0m, \u001b[32m'HOST'\u001b[0m: \u001b[32m'http://proxyserver'\u001b[0m, \n",
       "\u001b[32m'PYTHON_VERSION'\u001b[0m: \u001b[32m'3.7.9'\u001b[0m, \u001b[32m'PWD'\u001b[0m: \u001b[32m'/'\u001b[0m, \u001b[32m'PYTHON_GET_PIP_SHA256'\u001b[0m: \n",
       "\u001b[32m'6a0b13826862f33c13b614a921d36253bfa1ae779c5fbf569876f3585057e9d2'\u001b[0m, \u001b[32m'OUTPUT_FILE'\u001b[0m: \n",
       "\u001b[32m'/mnt/data/task-000000617/output'\u001b[0m, \u001b[32m'DATABASE_URI'\u001b[0m: \u001b[32m'/mnt/data/default.csv'\u001b[0m\u001b[1m}\u001b[0m\u001b[1m)\u001b[0m\n",
       "--> Reading input file\n",
       "INPUT FILE: \u001b[32mb'\\x80\\x04\u001b[0m\u001b[32m}\u001b[0m\u001b[32m\\x94.'\u001b[0m\n",
       "--> Writing to output file \u001b[1m(\u001b[0mcontents: test\u001b[1m)\u001b[0m\n",
       "--> Reading output file back and check\n",
       "test\n",
       "--> Reading token file\n",
       "TOKEN: eyJ0eXAiOiJKV1QiLCJhbGciOiJIUzI1NiJ9.eyJpYXQiOjE2NTIwOTAxOTEsIm5iZiI6MTY1MjA5MDE5MSwia\n",
       "nRpIjoiOThlOThiNWEtZjJhNy00MDQwLWI2NmUtMTkxYTgwYjE2MmVmIiwiaWRlbnRpdHkiOnsidHlwZSI6ImNvbnRhaW\n",
       "5lciIsIm5vZGVfaWQiOjQsIm9yZ2FuaXphdGlvbl9pZCI6MiwiY29sbGFib3JhdGlvbl9pZCI6MSwidGFza19pZCI6MzA\n",
       "wLCJpbWFnZSI6ImhhcmJvcjIudmFudGFnZTYuYWkvaW5mcmFzdHJ1Y3R1cmUvaGVsbG8tdmFudGFnZTYifSwiZnJlc2gi\n",
       "OmZhbHNlLCJ0eXBlIjoiYWNjZXNzIiwidXNlcl9jbGFpbXMiOnsidHlwZSI6ImNvbnRhaW5lciIsInJvbGVzIjpbXX19.\n",
       "G6vEMNLqXHOVt-EW7-zsScoLapNYlLC0mFyUiMUOX3Q\n",
       "--> Test temporary volume\n",
       "--> Writing to temporary file: \u001b[35m/mnt/tmp/\u001b[0m\u001b[95mtest.txt\u001b[0m\n",
       "--> Test that the temporary file is created\n",
       "FILE CREATED: \u001b[3;92mTrue\u001b[0m\n",
       "--> Test that we can reach the local proxy \u001b[1m(\u001b[0mand thereby the server\u001b[1m)\u001b[0m\n",
       "--> Verify that the container has no internet connection\n",
       "--> Connection error catched\n",
       "--> Check that two ports have been published\n",
       "debug\n",
       "\u001b[1m{\u001b[0m\u001b[32m'assigned_at'\u001b[0m: \u001b[32m'2022-05-09T09:56:29.022377+00:00'\u001b[0m, \u001b[32m'finished_at'\u001b[0m: \u001b[3;35mNone\u001b[0m, \u001b[32m'id'\u001b[0m: \u001b[1;36m617\u001b[0m, \u001b[32m'input'\u001b[0m: \n",
       "\u001b[32m'\u001b[0m\u001b[32mgAR9lC4\u001b[0m\u001b[32m='\u001b[0m, \u001b[32m'log'\u001b[0m: \u001b[3;35mNone\u001b[0m, \u001b[32m'node'\u001b[0m: \u001b[1m{\u001b[0m\u001b[32m'id'\u001b[0m: \u001b[1;36m4\u001b[0m, \u001b[32m'ip'\u001b[0m: \u001b[32m'10.76.0.48'\u001b[0m, \u001b[32m'name'\u001b[0m: \u001b[32m'IKNL - testing Node'\u001b[0m,\n",
       "\u001b[32m'status'\u001b[0m: \u001b[32m'online'\u001b[0m\u001b[1m}\u001b[0m, \u001b[32m'organization'\u001b[0m: \u001b[1;36m2\u001b[0m, \u001b[32m'ports'\u001b[0m: \u001b[1m[\u001b[0m\u001b[1m{\u001b[0m\u001b[32m'id'\u001b[0m: \u001b[1;36m219\u001b[0m, \u001b[32m'label'\u001b[0m: \u001b[32m'port5'\u001b[0m, \u001b[32m'port'\u001b[0m: \n",
       "\u001b[1;36m49178\u001b[0m\u001b[1m}\u001b[0m, \u001b[1m{\u001b[0m\u001b[32m'id'\u001b[0m: \u001b[1;36m221\u001b[0m, \u001b[32m'label'\u001b[0m: \u001b[32m'port8'\u001b[0m, \u001b[32m'port'\u001b[0m: \u001b[1;36m49179\u001b[0m\u001b[1m}\u001b[0m\u001b[1m]\u001b[0m, \u001b[32m'result'\u001b[0m: \u001b[3;35mNone\u001b[0m, \u001b[32m'started_at'\u001b[0m: \n",
       "\u001b[32m'2022-05-09T09:56:29.921688+00:00'\u001b[0m, \u001b[32m'task'\u001b[0m: \u001b[1;36m300\u001b[0m\u001b[1m}\u001b[0m\n",
       "--> Found \u001b[1;36m2\u001b[0m \u001b[1;35mport\u001b[0m\u001b[1m(\u001b[0ms\u001b[1m)\u001b[0m\n",
       "--> found \u001b[32m'port5'\u001b[0m:\u001b[1;36m49178\u001b[0m\n",
       "--> found \u001b[32m'port8'\u001b[0m:\u001b[1;36m49179\u001b[0m\n",
       "--> Check attached databases exists\n",
       "--> Found database-path: DEFAULT_DATABASE_URI\n",
       "--> database \u001b[32m'DEFAULT_DATABASE_URI'\u001b[0m is reachable: \u001b[35m/mnt/data/\u001b[0m\u001b[95mdefault.csv\u001b[0m\n",
       "\u001b[1m{\u001b[0m\u001b[32m'environment'\u001b[0m: \u001b[1;35menviron\u001b[0m\u001b[1m(\u001b[0m\u001b[1m{\u001b[0m\u001b[32m'INPUT_FILE'\u001b[0m: \u001b[32m'/mnt/data/task-000000617/input'\u001b[0m, \u001b[32m'HOSTNAME'\u001b[0m: \n",
       "\u001b[32m'7e76b0f40a30'\u001b[0m, \u001b[32m'PYTHON_PIP_VERSION'\u001b[0m: \u001b[32m'20.3.3'\u001b[0m, \u001b[32m'TOKEN_FILE'\u001b[0m: \n",
       "\u001b[32m'/mnt/data/task-000000617/token'\u001b[0m, \u001b[32m'PORT'\u001b[0m: \u001b[32m'80'\u001b[0m, \u001b[32m'HOME'\u001b[0m: \u001b[32m'/root'\u001b[0m, \u001b[32m'GPG_KEY'\u001b[0m: \n",
       "\u001b[32m'0D96DF4D4110E5C43FBFB17F2D347EA6AA65421D'\u001b[0m, \u001b[32m'TEMPORARY_FOLDER'\u001b[0m: \u001b[32m'/mnt/tmp'\u001b[0m, \u001b[32m'API_PATH'\u001b[0m: \u001b[32m''\u001b[0m, \n",
       "\u001b[32m'PYTHON_GET_PIP_URL'\u001b[0m: \n",
       "\u001b[32m'https://github.com/pypa/get-pip/raw/5f38681f7f5872e4032860b54e9cc11cf0374932/get-pip.py'\u001b[0m, \n",
       "\u001b[32m'PKG_NAME'\u001b[0m: \u001b[32m'v6-feature-tester-py'\u001b[0m, \u001b[32m'PATH'\u001b[0m: \n",
       "\u001b[32m'/usr/local/bin:/usr/local/sbin:/usr/local/bin:/usr/sbin:/usr/bin:/sbin:/bin'\u001b[0m, \u001b[32m'LANG'\u001b[0m: \n",
       "\u001b[32m'C.UTF-8'\u001b[0m, \u001b[32m'DEFAULT_DATABASE_URI'\u001b[0m: \u001b[32m'/mnt/data/default.csv'\u001b[0m, \u001b[32m'HOST'\u001b[0m: \u001b[32m'http://proxyserver'\u001b[0m, \n",
       "\u001b[32m'PYTHON_VERSION'\u001b[0m: \u001b[32m'3.7.9'\u001b[0m, \u001b[32m'PWD'\u001b[0m: \u001b[32m'/'\u001b[0m, \u001b[32m'PYTHON_GET_PIP_SHA256'\u001b[0m: \n",
       "\u001b[32m'6a0b13826862f33c13b614a921d36253bfa1ae779c5fbf569876f3585057e9d2'\u001b[0m, \u001b[32m'OUTPUT_FILE'\u001b[0m: \n",
       "\u001b[32m'/mnt/data/task-000000617/output'\u001b[0m, \u001b[32m'DATABASE_URI'\u001b[0m: \u001b[32m'/mnt/data/default.csv'\u001b[0m\u001b[1m}\u001b[0m\u001b[1m)\u001b[0m, \n",
       "\u001b[32m'READ_INPUT_FILE'\u001b[0m: \u001b[1m{\u001b[0m\u001b[32m'Success'\u001b[0m: \u001b[3;92mTrue\u001b[0m\u001b[1m}\u001b[0m, \u001b[32m'WRITE_READ_OUTPUT_FILE'\u001b[0m: \u001b[1m{\u001b[0m\u001b[32m'Success'\u001b[0m: \u001b[3;92mTrue\u001b[0m\u001b[1m}\u001b[0m, \n",
       "\u001b[32m'READ_TOKEN_FILE'\u001b[0m: \u001b[1m{\u001b[0m\u001b[32m'Success'\u001b[0m: \u001b[3;92mTrue\u001b[0m\u001b[1m}\u001b[0m, \u001b[32m'TEMPORARY_VOLUME'\u001b[0m: \u001b[1m{\u001b[0m\u001b[32m'Success'\u001b[0m: \u001b[3;92mTrue\u001b[0m\u001b[1m}\u001b[0m, \n",
       "\u001b[32m'TEMPORARY_VOLUME_FILE_EXISTS'\u001b[0m: \u001b[1m{\u001b[0m\u001b[32m'Success'\u001b[0m: \u001b[3;92mTrue\u001b[0m\u001b[1m}\u001b[0m, \u001b[32m'LOCAL_PROXY_CENTRAL_SERVER'\u001b[0m: \u001b[1m{\u001b[0m\u001b[32m'Success'\u001b[0m: \n",
       "\u001b[3;92mTrue\u001b[0m\u001b[1m}\u001b[0m, \u001b[32m'ISOLATION_TEST'\u001b[0m: \u001b[1m{\u001b[0m\u001b[32m'Success'\u001b[0m: \u001b[3;92mTrue\u001b[0m\u001b[1m}\u001b[0m, \u001b[32m'EXTERNAL_PORT_TEST'\u001b[0m: \u001b[1m{\u001b[0m\u001b[32m'Success'\u001b[0m: \u001b[3;92mTrue\u001b[0m\u001b[1m}\u001b[0m\u001b[1m}\u001b[0m\n",
       "\n"
      ]
     },
     "metadata": {},
     "output_type": "display_data"
    },
    {
     "data": {
      "text/html": [
       "<pre style=\"white-space:pre;overflow-x:auto;line-height:normal;font-family:Menlo,'DejaVu Sans Mono',consolas,'Courier New',monospace\">********************************************************************************\n",
       "</pre>\n"
      ],
      "text/plain": [
       "********************************************************************************\n"
      ]
     },
     "metadata": {},
     "output_type": "display_data"
    },
    {
     "data": {
      "text/html": [
       "<pre style=\"white-space:pre;overflow-x:auto;line-height:normal;font-family:Menlo,'DejaVu Sans Mono',consolas,'Courier New',monospace\">--&gt; Reading the environment variables\n",
       "ENVIRONMENT: <span style=\"color: #800080; text-decoration-color: #800080; font-weight: bold\">environ</span><span style=\"font-weight: bold\">({</span><span style=\"color: #008000; text-decoration-color: #008000\">'INPUT_FILE'</span>: <span style=\"color: #008000; text-decoration-color: #008000\">'/mnt/data/task-000000616/input'</span>, <span style=\"color: #008000; text-decoration-color: #008000\">'HOSTNAME'</span>: \n",
       "<span style=\"color: #008000; text-decoration-color: #008000\">'b5eb99717069'</span>, <span style=\"color: #008000; text-decoration-color: #008000\">'PYTHON_PIP_VERSION'</span>: <span style=\"color: #008000; text-decoration-color: #008000\">'20.3.3'</span>, <span style=\"color: #008000; text-decoration-color: #008000\">'TOKEN_FILE'</span>: \n",
       "<span style=\"color: #008000; text-decoration-color: #008000\">'/mnt/data/task-000000616/token'</span>, <span style=\"color: #008000; text-decoration-color: #008000\">'PORT'</span>: <span style=\"color: #008000; text-decoration-color: #008000\">'80'</span>, <span style=\"color: #008000; text-decoration-color: #008000\">'HOME'</span>: <span style=\"color: #008000; text-decoration-color: #008000\">'/root'</span>, <span style=\"color: #008000; text-decoration-color: #008000\">'GPG_KEY'</span>: \n",
       "<span style=\"color: #008000; text-decoration-color: #008000\">'0D96DF4D4110E5C43FBFB17F2D347EA6AA65421D'</span>, <span style=\"color: #008000; text-decoration-color: #008000\">'TEMPORARY_FOLDER'</span>: <span style=\"color: #008000; text-decoration-color: #008000\">'/mnt/tmp'</span>, <span style=\"color: #008000; text-decoration-color: #008000\">'API_PATH'</span>: <span style=\"color: #008000; text-decoration-color: #008000\">''</span>, \n",
       "<span style=\"color: #008000; text-decoration-color: #008000\">'PYTHON_GET_PIP_URL'</span>: \n",
       "<span style=\"color: #008000; text-decoration-color: #008000\">'https://github.com/pypa/get-pip/raw/5f38681f7f5872e4032860b54e9cc11cf0374932/get-pip.py'</span>, \n",
       "<span style=\"color: #008000; text-decoration-color: #008000\">'PKG_NAME'</span>: <span style=\"color: #008000; text-decoration-color: #008000\">'v6-feature-tester-py'</span>, <span style=\"color: #008000; text-decoration-color: #008000\">'PATH'</span>: \n",
       "<span style=\"color: #008000; text-decoration-color: #008000\">'/usr/local/bin:/usr/local/sbin:/usr/local/bin:/usr/sbin:/usr/bin:/sbin:/bin'</span>, <span style=\"color: #008000; text-decoration-color: #008000\">'LANG'</span>: \n",
       "<span style=\"color: #008000; text-decoration-color: #008000\">'C.UTF-8'</span>, <span style=\"color: #008000; text-decoration-color: #008000\">'DEFAULT_DATABASE_URI'</span>: <span style=\"color: #008000; text-decoration-color: #008000\">'/mnt/data/default.csv'</span>, <span style=\"color: #008000; text-decoration-color: #008000\">'HOST'</span>: <span style=\"color: #008000; text-decoration-color: #008000\">'http://proxyserver'</span>, \n",
       "<span style=\"color: #008000; text-decoration-color: #008000\">'PYTHON_VERSION'</span>: <span style=\"color: #008000; text-decoration-color: #008000\">'3.7.9'</span>, <span style=\"color: #008000; text-decoration-color: #008000\">'PWD'</span>: <span style=\"color: #008000; text-decoration-color: #008000\">'/'</span>, <span style=\"color: #008000; text-decoration-color: #008000\">'PYTHON_GET_PIP_SHA256'</span>: \n",
       "<span style=\"color: #008000; text-decoration-color: #008000\">'6a0b13826862f33c13b614a921d36253bfa1ae779c5fbf569876f3585057e9d2'</span>, <span style=\"color: #008000; text-decoration-color: #008000\">'OUTPUT_FILE'</span>: \n",
       "<span style=\"color: #008000; text-decoration-color: #008000\">'/mnt/data/task-000000616/output'</span>, <span style=\"color: #008000; text-decoration-color: #008000\">'DATABASE_URI'</span>: <span style=\"color: #008000; text-decoration-color: #008000\">'/mnt/data/default.csv'</span><span style=\"font-weight: bold\">})</span>\n",
       "--&gt; Reading input file\n",
       "INPUT FILE: <span style=\"color: #008000; text-decoration-color: #008000\">b'\\x80\\x04}\\x94.'</span>\n",
       "--&gt; Writing to output file <span style=\"font-weight: bold\">(</span>contents: test<span style=\"font-weight: bold\">)</span>\n",
       "--&gt; Reading output file back and check\n",
       "test\n",
       "--&gt; Reading token file\n",
       "TOKEN: eyJ0eXAiOiJKV1QiLCJhbGciOiJIUzI1NiJ9.eyJpYXQiOjE2NTIwOTAxOTIsIm5iZiI6MTY1MjA5MDE5Miwia\n",
       "nRpIjoiNjBlZDlhYTktYWZiOS00MzZlLTgyOGItZTA5NjliZTNiNDY4IiwiaWRlbnRpdHkiOnsidHlwZSI6ImNvbnRhaW\n",
       "5lciIsIm5vZGVfaWQiOjMsIm9yZ2FuaXphdGlvbl9pZCI6MSwiY29sbGFib3JhdGlvbl9pZCI6MSwidGFza19pZCI6MzA\n",
       "wLCJpbWFnZSI6ImhhcmJvcjIudmFudGFnZTYuYWkvaW5mcmFzdHJ1Y3R1cmUvaGVsbG8tdmFudGFnZTYifSwiZnJlc2gi\n",
       "OmZhbHNlLCJ0eXBlIjoiYWNjZXNzIiwidXNlcl9jbGFpbXMiOnsidHlwZSI6ImNvbnRhaW5lciIsInJvbGVzIjpbXX19.\n",
       "xuciHC2LYbrq-l4MGmzZrdudQQ1nSmrzWx5b5cCikoE\n",
       "--&gt; Test temporary volume\n",
       "--&gt; Writing to temporary file: <span style=\"color: #800080; text-decoration-color: #800080\">/mnt/tmp/</span><span style=\"color: #ff00ff; text-decoration-color: #ff00ff\">test.txt</span>\n",
       "--&gt; Test that the temporary file is created\n",
       "FILE CREATED: <span style=\"color: #00ff00; text-decoration-color: #00ff00; font-style: italic\">True</span>\n",
       "--&gt; Test that we can reach the local proxy <span style=\"font-weight: bold\">(</span>and thereby the server<span style=\"font-weight: bold\">)</span>\n",
       "--&gt; Verify that the container has no internet connection\n",
       "--&gt; Connection error catched\n",
       "--&gt; Check that two ports have been published\n",
       "debug\n",
       "<span style=\"font-weight: bold\">{</span><span style=\"color: #008000; text-decoration-color: #008000\">'assigned_at'</span>: <span style=\"color: #008000; text-decoration-color: #008000\">'2022-05-09T09:56:29.022377+00:00'</span>, <span style=\"color: #008000; text-decoration-color: #008000\">'finished_at'</span>: <span style=\"color: #800080; text-decoration-color: #800080; font-style: italic\">None</span>, <span style=\"color: #008000; text-decoration-color: #008000\">'id'</span>: <span style=\"color: #008080; text-decoration-color: #008080; font-weight: bold\">617</span>, <span style=\"color: #008000; text-decoration-color: #008000\">'input'</span>: \n",
       "<span style=\"color: #008000; text-decoration-color: #008000\">'gAR9lC4='</span>, <span style=\"color: #008000; text-decoration-color: #008000\">'log'</span>: <span style=\"color: #800080; text-decoration-color: #800080; font-style: italic\">None</span>, <span style=\"color: #008000; text-decoration-color: #008000\">'node'</span>: <span style=\"font-weight: bold\">{</span><span style=\"color: #008000; text-decoration-color: #008000\">'id'</span>: <span style=\"color: #008080; text-decoration-color: #008080; font-weight: bold\">4</span>, <span style=\"color: #008000; text-decoration-color: #008000\">'ip'</span>: <span style=\"color: #008000; text-decoration-color: #008000\">'10.76.0.48'</span>, <span style=\"color: #008000; text-decoration-color: #008000\">'name'</span>: <span style=\"color: #008000; text-decoration-color: #008000\">'IKNL - testing Node'</span>,\n",
       "<span style=\"color: #008000; text-decoration-color: #008000\">'status'</span>: <span style=\"color: #008000; text-decoration-color: #008000\">'online'</span><span style=\"font-weight: bold\">}</span>, <span style=\"color: #008000; text-decoration-color: #008000\">'organization'</span>: <span style=\"color: #008080; text-decoration-color: #008080; font-weight: bold\">2</span>, <span style=\"color: #008000; text-decoration-color: #008000\">'ports'</span>: <span style=\"font-weight: bold\">[{</span><span style=\"color: #008000; text-decoration-color: #008000\">'id'</span>: <span style=\"color: #008080; text-decoration-color: #008080; font-weight: bold\">219</span>, <span style=\"color: #008000; text-decoration-color: #008000\">'label'</span>: <span style=\"color: #008000; text-decoration-color: #008000\">'port5'</span>, <span style=\"color: #008000; text-decoration-color: #008000\">'port'</span>: \n",
       "<span style=\"color: #008080; text-decoration-color: #008080; font-weight: bold\">49178</span><span style=\"font-weight: bold\">}</span>, <span style=\"font-weight: bold\">{</span><span style=\"color: #008000; text-decoration-color: #008000\">'id'</span>: <span style=\"color: #008080; text-decoration-color: #008080; font-weight: bold\">221</span>, <span style=\"color: #008000; text-decoration-color: #008000\">'label'</span>: <span style=\"color: #008000; text-decoration-color: #008000\">'port8'</span>, <span style=\"color: #008000; text-decoration-color: #008000\">'port'</span>: <span style=\"color: #008080; text-decoration-color: #008080; font-weight: bold\">49179</span><span style=\"font-weight: bold\">}]</span>, <span style=\"color: #008000; text-decoration-color: #008000\">'result'</span>: <span style=\"color: #800080; text-decoration-color: #800080; font-style: italic\">None</span>, <span style=\"color: #008000; text-decoration-color: #008000\">'started_at'</span>: \n",
       "<span style=\"color: #008000; text-decoration-color: #008000\">'2022-05-09T09:56:29.921688+00:00'</span>, <span style=\"color: #008000; text-decoration-color: #008000\">'task'</span>: <span style=\"color: #008080; text-decoration-color: #008080; font-weight: bold\">300</span><span style=\"font-weight: bold\">}</span>\n",
       "--&gt; Found <span style=\"color: #008080; text-decoration-color: #008080; font-weight: bold\">2</span> <span style=\"color: #800080; text-decoration-color: #800080; font-weight: bold\">port</span><span style=\"font-weight: bold\">(</span>s<span style=\"font-weight: bold\">)</span>\n",
       "--&gt; found <span style=\"color: #008000; text-decoration-color: #008000\">'port5'</span>:<span style=\"color: #008080; text-decoration-color: #008080; font-weight: bold\">49178</span>\n",
       "--&gt; found <span style=\"color: #008000; text-decoration-color: #008000\">'port8'</span>:<span style=\"color: #008080; text-decoration-color: #008080; font-weight: bold\">49179</span>\n",
       "--&gt; Check attached databases exists\n",
       "--&gt; Found database-path: DEFAULT_DATABASE_URI\n",
       "--&gt; database <span style=\"color: #008000; text-decoration-color: #008000\">'DEFAULT_DATABASE_URI'</span> is reachable: <span style=\"color: #800080; text-decoration-color: #800080\">/mnt/data/</span><span style=\"color: #ff00ff; text-decoration-color: #ff00ff\">default.csv</span>\n",
       "<span style=\"font-weight: bold\">{</span><span style=\"color: #008000; text-decoration-color: #008000\">'environment'</span>: <span style=\"color: #800080; text-decoration-color: #800080; font-weight: bold\">environ</span><span style=\"font-weight: bold\">({</span><span style=\"color: #008000; text-decoration-color: #008000\">'INPUT_FILE'</span>: <span style=\"color: #008000; text-decoration-color: #008000\">'/mnt/data/task-000000616/input'</span>, <span style=\"color: #008000; text-decoration-color: #008000\">'HOSTNAME'</span>: \n",
       "<span style=\"color: #008000; text-decoration-color: #008000\">'b5eb99717069'</span>, <span style=\"color: #008000; text-decoration-color: #008000\">'PYTHON_PIP_VERSION'</span>: <span style=\"color: #008000; text-decoration-color: #008000\">'20.3.3'</span>, <span style=\"color: #008000; text-decoration-color: #008000\">'TOKEN_FILE'</span>: \n",
       "<span style=\"color: #008000; text-decoration-color: #008000\">'/mnt/data/task-000000616/token'</span>, <span style=\"color: #008000; text-decoration-color: #008000\">'PORT'</span>: <span style=\"color: #008000; text-decoration-color: #008000\">'80'</span>, <span style=\"color: #008000; text-decoration-color: #008000\">'HOME'</span>: <span style=\"color: #008000; text-decoration-color: #008000\">'/root'</span>, <span style=\"color: #008000; text-decoration-color: #008000\">'GPG_KEY'</span>: \n",
       "<span style=\"color: #008000; text-decoration-color: #008000\">'0D96DF4D4110E5C43FBFB17F2D347EA6AA65421D'</span>, <span style=\"color: #008000; text-decoration-color: #008000\">'TEMPORARY_FOLDER'</span>: <span style=\"color: #008000; text-decoration-color: #008000\">'/mnt/tmp'</span>, <span style=\"color: #008000; text-decoration-color: #008000\">'API_PATH'</span>: <span style=\"color: #008000; text-decoration-color: #008000\">''</span>, \n",
       "<span style=\"color: #008000; text-decoration-color: #008000\">'PYTHON_GET_PIP_URL'</span>: \n",
       "<span style=\"color: #008000; text-decoration-color: #008000\">'https://github.com/pypa/get-pip/raw/5f38681f7f5872e4032860b54e9cc11cf0374932/get-pip.py'</span>, \n",
       "<span style=\"color: #008000; text-decoration-color: #008000\">'PKG_NAME'</span>: <span style=\"color: #008000; text-decoration-color: #008000\">'v6-feature-tester-py'</span>, <span style=\"color: #008000; text-decoration-color: #008000\">'PATH'</span>: \n",
       "<span style=\"color: #008000; text-decoration-color: #008000\">'/usr/local/bin:/usr/local/sbin:/usr/local/bin:/usr/sbin:/usr/bin:/sbin:/bin'</span>, <span style=\"color: #008000; text-decoration-color: #008000\">'LANG'</span>: \n",
       "<span style=\"color: #008000; text-decoration-color: #008000\">'C.UTF-8'</span>, <span style=\"color: #008000; text-decoration-color: #008000\">'DEFAULT_DATABASE_URI'</span>: <span style=\"color: #008000; text-decoration-color: #008000\">'/mnt/data/default.csv'</span>, <span style=\"color: #008000; text-decoration-color: #008000\">'HOST'</span>: <span style=\"color: #008000; text-decoration-color: #008000\">'http://proxyserver'</span>, \n",
       "<span style=\"color: #008000; text-decoration-color: #008000\">'PYTHON_VERSION'</span>: <span style=\"color: #008000; text-decoration-color: #008000\">'3.7.9'</span>, <span style=\"color: #008000; text-decoration-color: #008000\">'PWD'</span>: <span style=\"color: #008000; text-decoration-color: #008000\">'/'</span>, <span style=\"color: #008000; text-decoration-color: #008000\">'PYTHON_GET_PIP_SHA256'</span>: \n",
       "<span style=\"color: #008000; text-decoration-color: #008000\">'6a0b13826862f33c13b614a921d36253bfa1ae779c5fbf569876f3585057e9d2'</span>, <span style=\"color: #008000; text-decoration-color: #008000\">'OUTPUT_FILE'</span>: \n",
       "<span style=\"color: #008000; text-decoration-color: #008000\">'/mnt/data/task-000000616/output'</span>, <span style=\"color: #008000; text-decoration-color: #008000\">'DATABASE_URI'</span>: <span style=\"color: #008000; text-decoration-color: #008000\">'/mnt/data/default.csv'</span><span style=\"font-weight: bold\">})</span>, \n",
       "<span style=\"color: #008000; text-decoration-color: #008000\">'READ_INPUT_FILE'</span>: <span style=\"font-weight: bold\">{</span><span style=\"color: #008000; text-decoration-color: #008000\">'Success'</span>: <span style=\"color: #00ff00; text-decoration-color: #00ff00; font-style: italic\">True</span><span style=\"font-weight: bold\">}</span>, <span style=\"color: #008000; text-decoration-color: #008000\">'WRITE_READ_OUTPUT_FILE'</span>: <span style=\"font-weight: bold\">{</span><span style=\"color: #008000; text-decoration-color: #008000\">'Success'</span>: <span style=\"color: #00ff00; text-decoration-color: #00ff00; font-style: italic\">True</span><span style=\"font-weight: bold\">}</span>, \n",
       "<span style=\"color: #008000; text-decoration-color: #008000\">'READ_TOKEN_FILE'</span>: <span style=\"font-weight: bold\">{</span><span style=\"color: #008000; text-decoration-color: #008000\">'Success'</span>: <span style=\"color: #00ff00; text-decoration-color: #00ff00; font-style: italic\">True</span><span style=\"font-weight: bold\">}</span>, <span style=\"color: #008000; text-decoration-color: #008000\">'TEMPORARY_VOLUME'</span>: <span style=\"font-weight: bold\">{</span><span style=\"color: #008000; text-decoration-color: #008000\">'Success'</span>: <span style=\"color: #00ff00; text-decoration-color: #00ff00; font-style: italic\">True</span><span style=\"font-weight: bold\">}</span>, \n",
       "<span style=\"color: #008000; text-decoration-color: #008000\">'TEMPORARY_VOLUME_FILE_EXISTS'</span>: <span style=\"font-weight: bold\">{</span><span style=\"color: #008000; text-decoration-color: #008000\">'Success'</span>: <span style=\"color: #00ff00; text-decoration-color: #00ff00; font-style: italic\">True</span><span style=\"font-weight: bold\">}</span>, <span style=\"color: #008000; text-decoration-color: #008000\">'LOCAL_PROXY_CENTRAL_SERVER'</span>: <span style=\"font-weight: bold\">{</span><span style=\"color: #008000; text-decoration-color: #008000\">'Success'</span>: \n",
       "<span style=\"color: #00ff00; text-decoration-color: #00ff00; font-style: italic\">True</span><span style=\"font-weight: bold\">}</span>, <span style=\"color: #008000; text-decoration-color: #008000\">'ISOLATION_TEST'</span>: <span style=\"font-weight: bold\">{</span><span style=\"color: #008000; text-decoration-color: #008000\">'Success'</span>: <span style=\"color: #00ff00; text-decoration-color: #00ff00; font-style: italic\">True</span><span style=\"font-weight: bold\">}</span>, <span style=\"color: #008000; text-decoration-color: #008000\">'EXTERNAL_PORT_TEST'</span>: <span style=\"font-weight: bold\">{</span><span style=\"color: #008000; text-decoration-color: #008000\">'Success'</span>: <span style=\"color: #00ff00; text-decoration-color: #00ff00; font-style: italic\">True</span><span style=\"font-weight: bold\">}}</span>\n",
       "\n",
       "</pre>\n"
      ],
      "text/plain": [
       "--> Reading the environment variables\n",
       "ENVIRONMENT: \u001b[1;35menviron\u001b[0m\u001b[1m(\u001b[0m\u001b[1m{\u001b[0m\u001b[32m'INPUT_FILE'\u001b[0m: \u001b[32m'/mnt/data/task-000000616/input'\u001b[0m, \u001b[32m'HOSTNAME'\u001b[0m: \n",
       "\u001b[32m'b5eb99717069'\u001b[0m, \u001b[32m'PYTHON_PIP_VERSION'\u001b[0m: \u001b[32m'20.3.3'\u001b[0m, \u001b[32m'TOKEN_FILE'\u001b[0m: \n",
       "\u001b[32m'/mnt/data/task-000000616/token'\u001b[0m, \u001b[32m'PORT'\u001b[0m: \u001b[32m'80'\u001b[0m, \u001b[32m'HOME'\u001b[0m: \u001b[32m'/root'\u001b[0m, \u001b[32m'GPG_KEY'\u001b[0m: \n",
       "\u001b[32m'0D96DF4D4110E5C43FBFB17F2D347EA6AA65421D'\u001b[0m, \u001b[32m'TEMPORARY_FOLDER'\u001b[0m: \u001b[32m'/mnt/tmp'\u001b[0m, \u001b[32m'API_PATH'\u001b[0m: \u001b[32m''\u001b[0m, \n",
       "\u001b[32m'PYTHON_GET_PIP_URL'\u001b[0m: \n",
       "\u001b[32m'https://github.com/pypa/get-pip/raw/5f38681f7f5872e4032860b54e9cc11cf0374932/get-pip.py'\u001b[0m, \n",
       "\u001b[32m'PKG_NAME'\u001b[0m: \u001b[32m'v6-feature-tester-py'\u001b[0m, \u001b[32m'PATH'\u001b[0m: \n",
       "\u001b[32m'/usr/local/bin:/usr/local/sbin:/usr/local/bin:/usr/sbin:/usr/bin:/sbin:/bin'\u001b[0m, \u001b[32m'LANG'\u001b[0m: \n",
       "\u001b[32m'C.UTF-8'\u001b[0m, \u001b[32m'DEFAULT_DATABASE_URI'\u001b[0m: \u001b[32m'/mnt/data/default.csv'\u001b[0m, \u001b[32m'HOST'\u001b[0m: \u001b[32m'http://proxyserver'\u001b[0m, \n",
       "\u001b[32m'PYTHON_VERSION'\u001b[0m: \u001b[32m'3.7.9'\u001b[0m, \u001b[32m'PWD'\u001b[0m: \u001b[32m'/'\u001b[0m, \u001b[32m'PYTHON_GET_PIP_SHA256'\u001b[0m: \n",
       "\u001b[32m'6a0b13826862f33c13b614a921d36253bfa1ae779c5fbf569876f3585057e9d2'\u001b[0m, \u001b[32m'OUTPUT_FILE'\u001b[0m: \n",
       "\u001b[32m'/mnt/data/task-000000616/output'\u001b[0m, \u001b[32m'DATABASE_URI'\u001b[0m: \u001b[32m'/mnt/data/default.csv'\u001b[0m\u001b[1m}\u001b[0m\u001b[1m)\u001b[0m\n",
       "--> Reading input file\n",
       "INPUT FILE: \u001b[32mb'\\x80\\x04\u001b[0m\u001b[32m}\u001b[0m\u001b[32m\\x94.'\u001b[0m\n",
       "--> Writing to output file \u001b[1m(\u001b[0mcontents: test\u001b[1m)\u001b[0m\n",
       "--> Reading output file back and check\n",
       "test\n",
       "--> Reading token file\n",
       "TOKEN: eyJ0eXAiOiJKV1QiLCJhbGciOiJIUzI1NiJ9.eyJpYXQiOjE2NTIwOTAxOTIsIm5iZiI6MTY1MjA5MDE5Miwia\n",
       "nRpIjoiNjBlZDlhYTktYWZiOS00MzZlLTgyOGItZTA5NjliZTNiNDY4IiwiaWRlbnRpdHkiOnsidHlwZSI6ImNvbnRhaW\n",
       "5lciIsIm5vZGVfaWQiOjMsIm9yZ2FuaXphdGlvbl9pZCI6MSwiY29sbGFib3JhdGlvbl9pZCI6MSwidGFza19pZCI6MzA\n",
       "wLCJpbWFnZSI6ImhhcmJvcjIudmFudGFnZTYuYWkvaW5mcmFzdHJ1Y3R1cmUvaGVsbG8tdmFudGFnZTYifSwiZnJlc2gi\n",
       "OmZhbHNlLCJ0eXBlIjoiYWNjZXNzIiwidXNlcl9jbGFpbXMiOnsidHlwZSI6ImNvbnRhaW5lciIsInJvbGVzIjpbXX19.\n",
       "xuciHC2LYbrq-l4MGmzZrdudQQ1nSmrzWx5b5cCikoE\n",
       "--> Test temporary volume\n",
       "--> Writing to temporary file: \u001b[35m/mnt/tmp/\u001b[0m\u001b[95mtest.txt\u001b[0m\n",
       "--> Test that the temporary file is created\n",
       "FILE CREATED: \u001b[3;92mTrue\u001b[0m\n",
       "--> Test that we can reach the local proxy \u001b[1m(\u001b[0mand thereby the server\u001b[1m)\u001b[0m\n",
       "--> Verify that the container has no internet connection\n",
       "--> Connection error catched\n",
       "--> Check that two ports have been published\n",
       "debug\n",
       "\u001b[1m{\u001b[0m\u001b[32m'assigned_at'\u001b[0m: \u001b[32m'2022-05-09T09:56:29.022377+00:00'\u001b[0m, \u001b[32m'finished_at'\u001b[0m: \u001b[3;35mNone\u001b[0m, \u001b[32m'id'\u001b[0m: \u001b[1;36m617\u001b[0m, \u001b[32m'input'\u001b[0m: \n",
       "\u001b[32m'\u001b[0m\u001b[32mgAR9lC4\u001b[0m\u001b[32m='\u001b[0m, \u001b[32m'log'\u001b[0m: \u001b[3;35mNone\u001b[0m, \u001b[32m'node'\u001b[0m: \u001b[1m{\u001b[0m\u001b[32m'id'\u001b[0m: \u001b[1;36m4\u001b[0m, \u001b[32m'ip'\u001b[0m: \u001b[32m'10.76.0.48'\u001b[0m, \u001b[32m'name'\u001b[0m: \u001b[32m'IKNL - testing Node'\u001b[0m,\n",
       "\u001b[32m'status'\u001b[0m: \u001b[32m'online'\u001b[0m\u001b[1m}\u001b[0m, \u001b[32m'organization'\u001b[0m: \u001b[1;36m2\u001b[0m, \u001b[32m'ports'\u001b[0m: \u001b[1m[\u001b[0m\u001b[1m{\u001b[0m\u001b[32m'id'\u001b[0m: \u001b[1;36m219\u001b[0m, \u001b[32m'label'\u001b[0m: \u001b[32m'port5'\u001b[0m, \u001b[32m'port'\u001b[0m: \n",
       "\u001b[1;36m49178\u001b[0m\u001b[1m}\u001b[0m, \u001b[1m{\u001b[0m\u001b[32m'id'\u001b[0m: \u001b[1;36m221\u001b[0m, \u001b[32m'label'\u001b[0m: \u001b[32m'port8'\u001b[0m, \u001b[32m'port'\u001b[0m: \u001b[1;36m49179\u001b[0m\u001b[1m}\u001b[0m\u001b[1m]\u001b[0m, \u001b[32m'result'\u001b[0m: \u001b[3;35mNone\u001b[0m, \u001b[32m'started_at'\u001b[0m: \n",
       "\u001b[32m'2022-05-09T09:56:29.921688+00:00'\u001b[0m, \u001b[32m'task'\u001b[0m: \u001b[1;36m300\u001b[0m\u001b[1m}\u001b[0m\n",
       "--> Found \u001b[1;36m2\u001b[0m \u001b[1;35mport\u001b[0m\u001b[1m(\u001b[0ms\u001b[1m)\u001b[0m\n",
       "--> found \u001b[32m'port5'\u001b[0m:\u001b[1;36m49178\u001b[0m\n",
       "--> found \u001b[32m'port8'\u001b[0m:\u001b[1;36m49179\u001b[0m\n",
       "--> Check attached databases exists\n",
       "--> Found database-path: DEFAULT_DATABASE_URI\n",
       "--> database \u001b[32m'DEFAULT_DATABASE_URI'\u001b[0m is reachable: \u001b[35m/mnt/data/\u001b[0m\u001b[95mdefault.csv\u001b[0m\n",
       "\u001b[1m{\u001b[0m\u001b[32m'environment'\u001b[0m: \u001b[1;35menviron\u001b[0m\u001b[1m(\u001b[0m\u001b[1m{\u001b[0m\u001b[32m'INPUT_FILE'\u001b[0m: \u001b[32m'/mnt/data/task-000000616/input'\u001b[0m, \u001b[32m'HOSTNAME'\u001b[0m: \n",
       "\u001b[32m'b5eb99717069'\u001b[0m, \u001b[32m'PYTHON_PIP_VERSION'\u001b[0m: \u001b[32m'20.3.3'\u001b[0m, \u001b[32m'TOKEN_FILE'\u001b[0m: \n",
       "\u001b[32m'/mnt/data/task-000000616/token'\u001b[0m, \u001b[32m'PORT'\u001b[0m: \u001b[32m'80'\u001b[0m, \u001b[32m'HOME'\u001b[0m: \u001b[32m'/root'\u001b[0m, \u001b[32m'GPG_KEY'\u001b[0m: \n",
       "\u001b[32m'0D96DF4D4110E5C43FBFB17F2D347EA6AA65421D'\u001b[0m, \u001b[32m'TEMPORARY_FOLDER'\u001b[0m: \u001b[32m'/mnt/tmp'\u001b[0m, \u001b[32m'API_PATH'\u001b[0m: \u001b[32m''\u001b[0m, \n",
       "\u001b[32m'PYTHON_GET_PIP_URL'\u001b[0m: \n",
       "\u001b[32m'https://github.com/pypa/get-pip/raw/5f38681f7f5872e4032860b54e9cc11cf0374932/get-pip.py'\u001b[0m, \n",
       "\u001b[32m'PKG_NAME'\u001b[0m: \u001b[32m'v6-feature-tester-py'\u001b[0m, \u001b[32m'PATH'\u001b[0m: \n",
       "\u001b[32m'/usr/local/bin:/usr/local/sbin:/usr/local/bin:/usr/sbin:/usr/bin:/sbin:/bin'\u001b[0m, \u001b[32m'LANG'\u001b[0m: \n",
       "\u001b[32m'C.UTF-8'\u001b[0m, \u001b[32m'DEFAULT_DATABASE_URI'\u001b[0m: \u001b[32m'/mnt/data/default.csv'\u001b[0m, \u001b[32m'HOST'\u001b[0m: \u001b[32m'http://proxyserver'\u001b[0m, \n",
       "\u001b[32m'PYTHON_VERSION'\u001b[0m: \u001b[32m'3.7.9'\u001b[0m, \u001b[32m'PWD'\u001b[0m: \u001b[32m'/'\u001b[0m, \u001b[32m'PYTHON_GET_PIP_SHA256'\u001b[0m: \n",
       "\u001b[32m'6a0b13826862f33c13b614a921d36253bfa1ae779c5fbf569876f3585057e9d2'\u001b[0m, \u001b[32m'OUTPUT_FILE'\u001b[0m: \n",
       "\u001b[32m'/mnt/data/task-000000616/output'\u001b[0m, \u001b[32m'DATABASE_URI'\u001b[0m: \u001b[32m'/mnt/data/default.csv'\u001b[0m\u001b[1m}\u001b[0m\u001b[1m)\u001b[0m, \n",
       "\u001b[32m'READ_INPUT_FILE'\u001b[0m: \u001b[1m{\u001b[0m\u001b[32m'Success'\u001b[0m: \u001b[3;92mTrue\u001b[0m\u001b[1m}\u001b[0m, \u001b[32m'WRITE_READ_OUTPUT_FILE'\u001b[0m: \u001b[1m{\u001b[0m\u001b[32m'Success'\u001b[0m: \u001b[3;92mTrue\u001b[0m\u001b[1m}\u001b[0m, \n",
       "\u001b[32m'READ_TOKEN_FILE'\u001b[0m: \u001b[1m{\u001b[0m\u001b[32m'Success'\u001b[0m: \u001b[3;92mTrue\u001b[0m\u001b[1m}\u001b[0m, \u001b[32m'TEMPORARY_VOLUME'\u001b[0m: \u001b[1m{\u001b[0m\u001b[32m'Success'\u001b[0m: \u001b[3;92mTrue\u001b[0m\u001b[1m}\u001b[0m, \n",
       "\u001b[32m'TEMPORARY_VOLUME_FILE_EXISTS'\u001b[0m: \u001b[1m{\u001b[0m\u001b[32m'Success'\u001b[0m: \u001b[3;92mTrue\u001b[0m\u001b[1m}\u001b[0m, \u001b[32m'LOCAL_PROXY_CENTRAL_SERVER'\u001b[0m: \u001b[1m{\u001b[0m\u001b[32m'Success'\u001b[0m: \n",
       "\u001b[3;92mTrue\u001b[0m\u001b[1m}\u001b[0m, \u001b[32m'ISOLATION_TEST'\u001b[0m: \u001b[1m{\u001b[0m\u001b[32m'Success'\u001b[0m: \u001b[3;92mTrue\u001b[0m\u001b[1m}\u001b[0m, \u001b[32m'EXTERNAL_PORT_TEST'\u001b[0m: \u001b[1m{\u001b[0m\u001b[32m'Success'\u001b[0m: \u001b[3;92mTrue\u001b[0m\u001b[1m}\u001b[0m\u001b[1m}\u001b[0m\n",
       "\n"
      ]
     },
     "metadata": {},
     "output_type": "display_data"
    }
   ],
   "source": [
    "# The feature tester image to be used\n",
    "IMAGE = 'harbor2.vantage6.ai/infrastructure/hello-vantage6'\n",
    "task = client.task.create(collaboration=COLLABORATION_ID, organizations=organization_ids, name='feature testing', image=IMAGE, description='Checking the node installation by sending a feature tester', input={})"
   ]
  }
 ],
 "metadata": {
  "kernelspec": {
   "display_name": "Python 3 (ipykernel)",
   "language": "python",
   "name": "python3"
  },
  "language_info": {
   "codemirror_mode": {
    "name": "ipython",
    "version": 3
   },
   "file_extension": ".py",
   "mimetype": "text/x-python",
   "name": "python",
   "nbconvert_exporter": "python",
   "pygments_lexer": "ipython3",
   "version": "3.9.12"
  }
 },
 "nbformat": 4,
 "nbformat_minor": 5
}
